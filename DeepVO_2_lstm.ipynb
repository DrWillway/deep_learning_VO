{
 "cells": [
  {
   "cell_type": "code",
   "execution_count": null,
   "id": "09635433",
   "metadata": {},
   "outputs": [],
   "source": [
    "import os\n",
    "import cv2\n",
    "import numpy as np\n",
    "import torch\n",
    "import torch.nn as nn\n",
    "from torch.utils.data import Dataset, DataLoader\n",
    "import torch.optim as optim\n",
    "from torchvision import transforms\n",
    "from scipy.spatial.transform import Rotation as R\n",
    "import matplotlib.pyplot as plt\n",
    "        \n",
    "from torch.utils.data import DataLoader, Subset\n",
    "import math\n",
    "\n",
    "import torch.nn.functional as F\n",
    "\n",
    "# -------------------------\n",
    "# Dataset\n",
    "# -------------------------\n",
    "class StepwiseDeepVODataset(Dataset):\n",
    "    def __init__(self, data_dir, img_size=(128, 384), transform=None, seq_len=10):\n",
    "        self.files = sorted(os.listdir(data_dir))\n",
    "        self.data_dir = data_dir\n",
    "        self.img_size = img_size\n",
    "        self.transform = transform\n",
    "        self.seq_len = seq_len\n",
    "\n",
    "    def __len__(self):\n",
    "        return len(self.files) - self.seq_len + 1  # Prevent overshooting\n",
    "\n",
    "    def __getitem__(self, idx):\n",
    "        images = []\n",
    "        poses = []\n",
    "        for i in range(self.seq_len):\n",
    "            item_path = os.path.join(self.data_dir, self.files[idx + i])\n",
    "            item = np.load(item_path, allow_pickle=True)\n",
    "            img1 = cv2.imread(item['img1'].item())\n",
    "            img2 = cv2.imread(item['img2'].item())\n",
    "\n",
    "            if img1 is None or img2 is None:\n",
    "                raise ValueError(f\"Image read failed at index {idx + i}: {item['img1'].item()} or {item['img2'].item()}\")\n",
    "\n",
    "            img1 = cv2.resize(img1, self.img_size).transpose(2, 0, 1) / 255.0\n",
    "            img2 = cv2.resize(img2, self.img_size).transpose(2, 0, 1) / 255.0\n",
    "            pair = np.concatenate([img1, img2], axis=0)\n",
    "            images.append(pair)\n",
    "            poses.append(item['pose'])\n",
    "\n",
    "        images = np.array(images)\n",
    "        poses = np.array(poses)\n",
    "        return torch.tensor(images, dtype=torch.float32), torch.tensor(poses, dtype=torch.float32)\n",
    "\n",
    "\n",
    "    \n",
    "# -------------------------\n",
    "# Model\n",
    "# -------------------------\n",
    "class DeepVO(nn.Module):\n",
    "    def __init__(self, input_size=(128, 384), hidden_size=1000, rnn_layers=1):\n",
    "        super(DeepVO, self).__init__()\n",
    "        self.conv1 = nn.Conv2d(6, 64, kernel_size=7, stride=2, padding=3)\n",
    "        self.conv2 = nn.Conv2d(64, 128, kernel_size=5, stride=2, padding=2)\n",
    "        self.conv3 = nn.Conv2d(128, 256, kernel_size=5, stride=2, padding=2)\n",
    "        self.conv4 = nn.Conv2d(256, 256, kernel_size=3, stride=2, padding=1)\n",
    "        self.relu = nn.ReLU()\n",
    "\n",
    "        # Compute flattened conv feature size\n",
    "        dummy_input = torch.zeros(1, 6, *input_size)\n",
    "        with torch.no_grad():\n",
    "            x = self.relu(self.conv1(dummy_input))\n",
    "            x = self.relu(self.conv2(x))\n",
    "            x = self.relu(self.conv3(x))\n",
    "            x = self.relu(self.conv4(x))\n",
    "            #conv_out_size = 49152 #x.view(1, -1).shape[1]\n",
    "            conv_out_size = x.view(1, -1).shape[1]\n",
    "\n",
    "        self.rnn = nn.LSTM(input_size=conv_out_size,\n",
    "                           hidden_size=hidden_size,\n",
    "                           num_layers=rnn_layers,\n",
    "                           batch_first=True)\n",
    "\n",
    "        self.fc = nn.Linear(hidden_size, 6)\n",
    "\n",
    "    def forward(self, x):\n",
    "        batch_size, seq_len, c, h, w = x.size()  # Expected input shape: (B, T, C, H, W)\n",
    "        x = x.view(batch_size * seq_len, c, h, w)\n",
    "\n",
    "        x = self.relu(self.conv1(x))\n",
    "        x = self.relu(self.conv2(x))\n",
    "        x = self.relu(self.conv3(x))\n",
    "        x = self.relu(self.conv4(x))\n",
    "        #print(\"CNN output shape:\", x.shape)  # Before x = x.reshape(...)\n",
    "\n",
    "        x = x.reshape(batch_size, seq_len, -1)  # (B, T, FeatureDim)\n",
    "\n",
    "        rnn_out, _ = self.rnn(x)\n",
    "        output = self.fc(rnn_out)  # (B, T, 6)\n",
    "        return output\n",
    "# -------------------------\n",
    "# Training and Testing\n",
    "# -------------------------\n",
    "scaler = torch.amp.GradScaler()\n",
    "\n",
    "def train(model, dataloader, optimizer, criterion, device):\n",
    "    model.train()\n",
    "    total_loss = 0\n",
    "    for X, y in dataloader:\n",
    "        X, y = X.to(device), y.to(device)\n",
    "        optimizer.zero_grad()\n",
    "\n",
    "        with torch.amp.autocast(device_type='cuda'):\n",
    "            pred = model(X)\n",
    "            loss = criterion(pred, y)\n",
    "\n",
    "        scaler.scale(loss).backward()\n",
    "        scaler.step(optimizer)\n",
    "        scaler.update()\n",
    "\n",
    "        total_loss += loss.item()\n",
    "    return total_loss / len(dataloader)\n",
    "\n",
    "device = 'cuda' if torch.cuda.is_available() else 'cpu'"
   ]
  },
  {
   "cell_type": "code",
   "execution_count": null,
   "id": "e6d699e4",
   "metadata": {},
   "outputs": [],
   "source": [
    "#train_dataset = StepwiseDeepVODataset(\"data/train/00_short\")\n",
    "\n",
    "train_dataset = StepwiseDeepVODataset(\"data/train/isep\")\n",
    "\n",
    "# Load only % of the data\n",
    "subset_size = int(1.0 * len(train_dataset))\n",
    "subset_indices = list(range(subset_size))\n",
    "\n",
    "train_subset = Subset(train_dataset, subset_indices)\n",
    "\n",
    "train_loader = DataLoader(train_subset, batch_size=20, shuffle=True)"
   ]
  },
  {
   "cell_type": "code",
   "execution_count": 4,
   "id": "0d0afd16",
   "metadata": {},
   "outputs": [
    {
     "name": "stdout",
     "output_type": "stream",
     "text": [
      "Starting training from scratch\n",
      "Epoch 0, Loss: 0.0001\n"
     ]
    },
    {
     "ename": "KeyboardInterrupt",
     "evalue": "",
     "output_type": "error",
     "traceback": [
      "\u001b[0;31m---------------------------------------------------------------------------\u001b[0m",
      "\u001b[0;31mKeyboardInterrupt\u001b[0m                         Traceback (most recent call last)",
      "Cell \u001b[0;32mIn[4], line 93\u001b[0m\n\u001b[1;32m     90\u001b[0m     \u001b[38;5;28mprint\u001b[39m(\u001b[38;5;124m\"\u001b[39m\u001b[38;5;124mStarting training from scratch\u001b[39m\u001b[38;5;124m\"\u001b[39m)\n\u001b[1;32m     92\u001b[0m \u001b[38;5;28;01mfor\u001b[39;00m epoch \u001b[38;5;129;01min\u001b[39;00m \u001b[38;5;28mrange\u001b[39m(\u001b[38;5;241m10\u001b[39m):\n\u001b[0;32m---> 93\u001b[0m     loss \u001b[38;5;241m=\u001b[39m \u001b[43mtrain\u001b[49m\u001b[43m(\u001b[49m\u001b[43mmodel\u001b[49m\u001b[43m,\u001b[49m\u001b[43m \u001b[49m\u001b[43mtrain_loader\u001b[49m\u001b[43m,\u001b[49m\u001b[43m \u001b[49m\u001b[43moptimizer\u001b[49m\u001b[43m,\u001b[49m\u001b[43m \u001b[49m\u001b[43mcriterion\u001b[49m\u001b[43m,\u001b[49m\u001b[43m \u001b[49m\u001b[43mdevice\u001b[49m\u001b[43m)\u001b[49m\n\u001b[1;32m     94\u001b[0m     \u001b[38;5;28mprint\u001b[39m(\u001b[38;5;124mf\u001b[39m\u001b[38;5;124m\"\u001b[39m\u001b[38;5;124mEpoch \u001b[39m\u001b[38;5;132;01m{\u001b[39;00mstart_epoch\u001b[38;5;241m+\u001b[39mepoch\u001b[38;5;132;01m}\u001b[39;00m\u001b[38;5;124m, Loss: \u001b[39m\u001b[38;5;132;01m{\u001b[39;00mloss\u001b[38;5;132;01m:\u001b[39;00m\u001b[38;5;124m.4f\u001b[39m\u001b[38;5;132;01m}\u001b[39;00m\u001b[38;5;124m\"\u001b[39m)\n\u001b[1;32m     96\u001b[0m     \u001b[38;5;66;03m# Save loss to CSV\u001b[39;00m\n",
      "Cell \u001b[0;32mIn[1], line 106\u001b[0m, in \u001b[0;36mtrain\u001b[0;34m(model, dataloader, optimizer, criterion, device)\u001b[0m\n\u001b[1;32m    104\u001b[0m model\u001b[38;5;241m.\u001b[39mtrain()\n\u001b[1;32m    105\u001b[0m total_loss \u001b[38;5;241m=\u001b[39m \u001b[38;5;241m0\u001b[39m\n\u001b[0;32m--> 106\u001b[0m \u001b[38;5;28;01mfor\u001b[39;00m X, y \u001b[38;5;129;01min\u001b[39;00m dataloader:\n\u001b[1;32m    107\u001b[0m     X, y \u001b[38;5;241m=\u001b[39m X\u001b[38;5;241m.\u001b[39mto(device), y\u001b[38;5;241m.\u001b[39mto(device)\n\u001b[1;32m    108\u001b[0m     optimizer\u001b[38;5;241m.\u001b[39mzero_grad()\n",
      "File \u001b[0;32m/usr/local/lib/python3.10/dist-packages/torch/utils/data/dataloader.py:733\u001b[0m, in \u001b[0;36m_BaseDataLoaderIter.__next__\u001b[0;34m(self)\u001b[0m\n\u001b[1;32m    730\u001b[0m \u001b[38;5;28;01mif\u001b[39;00m \u001b[38;5;28mself\u001b[39m\u001b[38;5;241m.\u001b[39m_sampler_iter \u001b[38;5;129;01mis\u001b[39;00m \u001b[38;5;28;01mNone\u001b[39;00m:\n\u001b[1;32m    731\u001b[0m     \u001b[38;5;66;03m# TODO(https://github.com/pytorch/pytorch/issues/76750)\u001b[39;00m\n\u001b[1;32m    732\u001b[0m     \u001b[38;5;28mself\u001b[39m\u001b[38;5;241m.\u001b[39m_reset()  \u001b[38;5;66;03m# type: ignore[call-arg]\u001b[39;00m\n\u001b[0;32m--> 733\u001b[0m data \u001b[38;5;241m=\u001b[39m \u001b[38;5;28;43mself\u001b[39;49m\u001b[38;5;241;43m.\u001b[39;49m\u001b[43m_next_data\u001b[49m\u001b[43m(\u001b[49m\u001b[43m)\u001b[49m\n\u001b[1;32m    734\u001b[0m \u001b[38;5;28mself\u001b[39m\u001b[38;5;241m.\u001b[39m_num_yielded \u001b[38;5;241m+\u001b[39m\u001b[38;5;241m=\u001b[39m \u001b[38;5;241m1\u001b[39m\n\u001b[1;32m    735\u001b[0m \u001b[38;5;28;01mif\u001b[39;00m (\n\u001b[1;32m    736\u001b[0m     \u001b[38;5;28mself\u001b[39m\u001b[38;5;241m.\u001b[39m_dataset_kind \u001b[38;5;241m==\u001b[39m _DatasetKind\u001b[38;5;241m.\u001b[39mIterable\n\u001b[1;32m    737\u001b[0m     \u001b[38;5;129;01mand\u001b[39;00m \u001b[38;5;28mself\u001b[39m\u001b[38;5;241m.\u001b[39m_IterableDataset_len_called \u001b[38;5;129;01mis\u001b[39;00m \u001b[38;5;129;01mnot\u001b[39;00m \u001b[38;5;28;01mNone\u001b[39;00m\n\u001b[1;32m    738\u001b[0m     \u001b[38;5;129;01mand\u001b[39;00m \u001b[38;5;28mself\u001b[39m\u001b[38;5;241m.\u001b[39m_num_yielded \u001b[38;5;241m>\u001b[39m \u001b[38;5;28mself\u001b[39m\u001b[38;5;241m.\u001b[39m_IterableDataset_len_called\n\u001b[1;32m    739\u001b[0m ):\n",
      "File \u001b[0;32m/usr/local/lib/python3.10/dist-packages/torch/utils/data/dataloader.py:789\u001b[0m, in \u001b[0;36m_SingleProcessDataLoaderIter._next_data\u001b[0;34m(self)\u001b[0m\n\u001b[1;32m    787\u001b[0m \u001b[38;5;28;01mdef\u001b[39;00m\u001b[38;5;250m \u001b[39m\u001b[38;5;21m_next_data\u001b[39m(\u001b[38;5;28mself\u001b[39m):\n\u001b[1;32m    788\u001b[0m     index \u001b[38;5;241m=\u001b[39m \u001b[38;5;28mself\u001b[39m\u001b[38;5;241m.\u001b[39m_next_index()  \u001b[38;5;66;03m# may raise StopIteration\u001b[39;00m\n\u001b[0;32m--> 789\u001b[0m     data \u001b[38;5;241m=\u001b[39m \u001b[38;5;28;43mself\u001b[39;49m\u001b[38;5;241;43m.\u001b[39;49m\u001b[43m_dataset_fetcher\u001b[49m\u001b[38;5;241;43m.\u001b[39;49m\u001b[43mfetch\u001b[49m\u001b[43m(\u001b[49m\u001b[43mindex\u001b[49m\u001b[43m)\u001b[49m  \u001b[38;5;66;03m# may raise StopIteration\u001b[39;00m\n\u001b[1;32m    790\u001b[0m     \u001b[38;5;28;01mif\u001b[39;00m \u001b[38;5;28mself\u001b[39m\u001b[38;5;241m.\u001b[39m_pin_memory:\n\u001b[1;32m    791\u001b[0m         data \u001b[38;5;241m=\u001b[39m _utils\u001b[38;5;241m.\u001b[39mpin_memory\u001b[38;5;241m.\u001b[39mpin_memory(data, \u001b[38;5;28mself\u001b[39m\u001b[38;5;241m.\u001b[39m_pin_memory_device)\n",
      "File \u001b[0;32m/usr/local/lib/python3.10/dist-packages/torch/utils/data/_utils/fetch.py:50\u001b[0m, in \u001b[0;36m_MapDatasetFetcher.fetch\u001b[0;34m(self, possibly_batched_index)\u001b[0m\n\u001b[1;32m     48\u001b[0m \u001b[38;5;28;01mif\u001b[39;00m \u001b[38;5;28mself\u001b[39m\u001b[38;5;241m.\u001b[39mauto_collation:\n\u001b[1;32m     49\u001b[0m     \u001b[38;5;28;01mif\u001b[39;00m \u001b[38;5;28mhasattr\u001b[39m(\u001b[38;5;28mself\u001b[39m\u001b[38;5;241m.\u001b[39mdataset, \u001b[38;5;124m\"\u001b[39m\u001b[38;5;124m__getitems__\u001b[39m\u001b[38;5;124m\"\u001b[39m) \u001b[38;5;129;01mand\u001b[39;00m \u001b[38;5;28mself\u001b[39m\u001b[38;5;241m.\u001b[39mdataset\u001b[38;5;241m.\u001b[39m__getitems__:\n\u001b[0;32m---> 50\u001b[0m         data \u001b[38;5;241m=\u001b[39m \u001b[38;5;28;43mself\u001b[39;49m\u001b[38;5;241;43m.\u001b[39;49m\u001b[43mdataset\u001b[49m\u001b[38;5;241;43m.\u001b[39;49m\u001b[43m__getitems__\u001b[49m\u001b[43m(\u001b[49m\u001b[43mpossibly_batched_index\u001b[49m\u001b[43m)\u001b[49m\n\u001b[1;32m     51\u001b[0m     \u001b[38;5;28;01melse\u001b[39;00m:\n\u001b[1;32m     52\u001b[0m         data \u001b[38;5;241m=\u001b[39m [\u001b[38;5;28mself\u001b[39m\u001b[38;5;241m.\u001b[39mdataset[idx] \u001b[38;5;28;01mfor\u001b[39;00m idx \u001b[38;5;129;01min\u001b[39;00m possibly_batched_index]\n",
      "File \u001b[0;32m/usr/local/lib/python3.10/dist-packages/torch/utils/data/dataset.py:416\u001b[0m, in \u001b[0;36mSubset.__getitems__\u001b[0;34m(self, indices)\u001b[0m\n\u001b[1;32m    414\u001b[0m     \u001b[38;5;28;01mreturn\u001b[39;00m \u001b[38;5;28mself\u001b[39m\u001b[38;5;241m.\u001b[39mdataset\u001b[38;5;241m.\u001b[39m__getitems__([\u001b[38;5;28mself\u001b[39m\u001b[38;5;241m.\u001b[39mindices[idx] \u001b[38;5;28;01mfor\u001b[39;00m idx \u001b[38;5;129;01min\u001b[39;00m indices])  \u001b[38;5;66;03m# type: ignore[attr-defined]\u001b[39;00m\n\u001b[1;32m    415\u001b[0m \u001b[38;5;28;01melse\u001b[39;00m:\n\u001b[0;32m--> 416\u001b[0m     \u001b[38;5;28;01mreturn\u001b[39;00m [\u001b[38;5;28mself\u001b[39m\u001b[38;5;241m.\u001b[39mdataset[\u001b[38;5;28mself\u001b[39m\u001b[38;5;241m.\u001b[39mindices[idx]] \u001b[38;5;28;01mfor\u001b[39;00m idx \u001b[38;5;129;01min\u001b[39;00m indices]\n",
      "File \u001b[0;32m/usr/local/lib/python3.10/dist-packages/torch/utils/data/dataset.py:416\u001b[0m, in \u001b[0;36m<listcomp>\u001b[0;34m(.0)\u001b[0m\n\u001b[1;32m    414\u001b[0m     \u001b[38;5;28;01mreturn\u001b[39;00m \u001b[38;5;28mself\u001b[39m\u001b[38;5;241m.\u001b[39mdataset\u001b[38;5;241m.\u001b[39m__getitems__([\u001b[38;5;28mself\u001b[39m\u001b[38;5;241m.\u001b[39mindices[idx] \u001b[38;5;28;01mfor\u001b[39;00m idx \u001b[38;5;129;01min\u001b[39;00m indices])  \u001b[38;5;66;03m# type: ignore[attr-defined]\u001b[39;00m\n\u001b[1;32m    415\u001b[0m \u001b[38;5;28;01melse\u001b[39;00m:\n\u001b[0;32m--> 416\u001b[0m     \u001b[38;5;28;01mreturn\u001b[39;00m [\u001b[38;5;28;43mself\u001b[39;49m\u001b[38;5;241;43m.\u001b[39;49m\u001b[43mdataset\u001b[49m\u001b[43m[\u001b[49m\u001b[38;5;28;43mself\u001b[39;49m\u001b[38;5;241;43m.\u001b[39;49m\u001b[43mindices\u001b[49m\u001b[43m[\u001b[49m\u001b[43midx\u001b[49m\u001b[43m]\u001b[49m\u001b[43m]\u001b[49m \u001b[38;5;28;01mfor\u001b[39;00m idx \u001b[38;5;129;01min\u001b[39;00m indices]\n",
      "Cell \u001b[0;32mIn[1], line 38\u001b[0m, in \u001b[0;36mStepwiseDeepVODataset.__getitem__\u001b[0;34m(self, idx)\u001b[0m\n\u001b[1;32m     36\u001b[0m item \u001b[38;5;241m=\u001b[39m np\u001b[38;5;241m.\u001b[39mload(item_path, allow_pickle\u001b[38;5;241m=\u001b[39m\u001b[38;5;28;01mTrue\u001b[39;00m)\n\u001b[1;32m     37\u001b[0m img1 \u001b[38;5;241m=\u001b[39m cv2\u001b[38;5;241m.\u001b[39mimread(item[\u001b[38;5;124m'\u001b[39m\u001b[38;5;124mimg1\u001b[39m\u001b[38;5;124m'\u001b[39m]\u001b[38;5;241m.\u001b[39mitem())\n\u001b[0;32m---> 38\u001b[0m img2 \u001b[38;5;241m=\u001b[39m \u001b[43mcv2\u001b[49m\u001b[38;5;241;43m.\u001b[39;49m\u001b[43mimread\u001b[49m\u001b[43m(\u001b[49m\u001b[43mitem\u001b[49m\u001b[43m[\u001b[49m\u001b[38;5;124;43m'\u001b[39;49m\u001b[38;5;124;43mimg2\u001b[39;49m\u001b[38;5;124;43m'\u001b[39;49m\u001b[43m]\u001b[49m\u001b[38;5;241;43m.\u001b[39;49m\u001b[43mitem\u001b[49m\u001b[43m(\u001b[49m\u001b[43m)\u001b[49m\u001b[43m)\u001b[49m\n\u001b[1;32m     40\u001b[0m \u001b[38;5;28;01mif\u001b[39;00m img1 \u001b[38;5;129;01mis\u001b[39;00m \u001b[38;5;28;01mNone\u001b[39;00m \u001b[38;5;129;01mor\u001b[39;00m img2 \u001b[38;5;129;01mis\u001b[39;00m \u001b[38;5;28;01mNone\u001b[39;00m:\n\u001b[1;32m     41\u001b[0m     \u001b[38;5;28;01mraise\u001b[39;00m \u001b[38;5;167;01mValueError\u001b[39;00m(\u001b[38;5;124mf\u001b[39m\u001b[38;5;124m\"\u001b[39m\u001b[38;5;124mImage read failed at index \u001b[39m\u001b[38;5;132;01m{\u001b[39;00midx\u001b[38;5;250m \u001b[39m\u001b[38;5;241m+\u001b[39m\u001b[38;5;250m \u001b[39mi\u001b[38;5;132;01m}\u001b[39;00m\u001b[38;5;124m: \u001b[39m\u001b[38;5;132;01m{\u001b[39;00mitem[\u001b[38;5;124m'\u001b[39m\u001b[38;5;124mimg1\u001b[39m\u001b[38;5;124m'\u001b[39m]\u001b[38;5;241m.\u001b[39mitem()\u001b[38;5;132;01m}\u001b[39;00m\u001b[38;5;124m or \u001b[39m\u001b[38;5;132;01m{\u001b[39;00mitem[\u001b[38;5;124m'\u001b[39m\u001b[38;5;124mimg2\u001b[39m\u001b[38;5;124m'\u001b[39m]\u001b[38;5;241m.\u001b[39mitem()\u001b[38;5;132;01m}\u001b[39;00m\u001b[38;5;124m\"\u001b[39m)\n",
      "\u001b[0;31mKeyboardInterrupt\u001b[0m: "
     ]
    }
   ],
   "source": [
    "# -------------------------\n",
    "# Main\n",
    "# -------------------------\n",
    "import csv\n",
    "\n",
    "loss_log_path = \"checkpoints2_lstm/training_loss_mse_isep.csv\"\n",
    "\n",
    "# Create the log file and write header if it doesn't exist\n",
    "if not os.path.exists(loss_log_path):\n",
    "    with open(loss_log_path, mode='w', newline='') as f:\n",
    "        loss_writer = csv.writer(f)\n",
    "        loss_writer.writerow([\"Epoch\", \"Loss\"])\n",
    "\n",
    "model = DeepVO().to(device)\n",
    "\n",
    "optimizer = optim.Adam(model.parameters(), lr=1e-4)\n",
    "\n",
    "class WeightedPoseLoss(nn.Module):\n",
    "    def __init__(self, trans_weight=1.0, rot_weight=100.0):\n",
    "        super().__init__()\n",
    "        self.trans_weight = trans_weight\n",
    "        self.rot_weight = rot_weight\n",
    "        self.mse = nn.MSELoss()\n",
    "\n",
    "    def forward(self, pred, target):\n",
    "        pred_trans = pred[:, :3]\n",
    "        pred_rot = pred[:, 3:]\n",
    "        target_trans = target[:, :3]\n",
    "        target_rot = target[:, 3:]\n",
    "\n",
    "        trans_loss = self.mse(pred_trans, target_trans)\n",
    "        rot_loss = self.mse(pred_rot, target_rot)\n",
    "\n",
    "        return self.trans_weight * trans_loss + self.rot_weight * rot_loss\n",
    "\n",
    "class PoseL1Loss(nn.Module):\n",
    "    def __init__(self, trans_weight=1.0, rot_weight=100.0):\n",
    "        super().__init__()\n",
    "        self.trans_weight = trans_weight\n",
    "        self.rot_weight = rot_weight\n",
    "        self.l1 = nn.L1Loss()\n",
    "\n",
    "    def forward(self, pred, target):\n",
    "        pred_trans = pred[:, :3]\n",
    "        pred_rot = pred[:, 3:]\n",
    "        target_trans = target[:, :3]\n",
    "        target_rot = target[:, 3:]\n",
    "\n",
    "        trans_loss = self.l1(pred_trans, target_trans)\n",
    "        rot_loss = self.l1(pred_rot, target_rot)\n",
    "\n",
    "        return self.trans_weight * trans_loss + self.rot_weight * rot_loss\n",
    "\n",
    "class WeightedHuberLoss(nn.Module):\n",
    "    def __init__(self, trans_weight=1.0, rot_weight=10.0):\n",
    "        super().__init__()\n",
    "        self.trans_weight = trans_weight\n",
    "        self.rot_weight = rot_weight\n",
    "        self.smooth_l1 = nn.SmoothL1Loss()\n",
    "\n",
    "    def forward(self, pred, target):\n",
    "        pred_trans = pred[:, :3]\n",
    "        pred_rot = pred[:, 3:]\n",
    "        target_trans = target[:, :3]\n",
    "        target_rot = target[:, 3:]\n",
    "\n",
    "        trans_loss = self.smooth_l1(pred_trans, target_trans)\n",
    "        rot_loss = self.smooth_l1(pred_rot, target_rot)\n",
    "\n",
    "        return self.trans_weight * trans_loss + self.rot_weight * rot_loss\n",
    "\n",
    "#criterion = PoseL1Loss(trans_weight=1.0, rot_weight=10.0)\n",
    "#criterion = WeightedPoseLoss(trans_weight=10.0, rot_weight=80.0)\n",
    "#criterion = WeightedHuberLoss(trans_weight=1.0, rot_weight=10.0)\n",
    "criterion = nn.MSELoss()\n",
    "\n",
    "# -------------------------------\n",
    "# Load checkpoint if it exists\n",
    "# -------------------------------\n",
    "os.makedirs(\"checkpoints2_lstm\", exist_ok=True)\n",
    "ckpt_path = \"checkpoints2_lstm/deepvo_checkpoint_lstm2_isep.pt\"\n",
    "start_epoch = 0\n",
    "if os.path.exists(ckpt_path):\n",
    "    checkpoint = torch.load(ckpt_path)\n",
    "    model.load_state_dict(checkpoint[\"model_state_dict\"])\n",
    "    optimizer.load_state_dict(checkpoint[\"optimizer_state_dict\"])\n",
    "    start_epoch = checkpoint[\"epoch\"] + 1\n",
    "    print(f\"Loaded checkpoint from epoch {start_epoch}\")\n",
    "else:\n",
    "    print(\"Starting training from scratch\")\n",
    "\n",
    "for epoch in range(10):\n",
    "    loss = train(model, train_loader, optimizer, criterion, device)\n",
    "    print(f\"Epoch {start_epoch+epoch}, Loss: {loss:.4f}\")\n",
    "    \n",
    "    # Save loss to CSV\n",
    "    with open(loss_log_path, mode='a', newline='') as f:\n",
    "        writer = csv.writer(f)\n",
    "        writer.writerow([start_epoch+epoch, loss])\n",
    "\n",
    "    torch.save({\n",
    "        \"epoch\": start_epoch+epoch,\n",
    "        \"model_state_dict\": model.state_dict(),\n",
    "        \"optimizer_state_dict\": optimizer.state_dict()\n",
    "    }, ckpt_path)\n",
    "    #torch.save({\n",
    "    #    \"epoch\": start_epoch+epoch,\n",
    "    #    \"model_state_dict\": model.state_dict(),\n",
    "    #    \"optimizer_state_dict\": optimizer.state_dict()\n",
    "    #}, f\"checkpoints1_1/deepvo_epoch{start_epoch+epoch}.pt\")\n"
   ]
  },
  {
   "cell_type": "code",
   "execution_count": 3,
   "id": "7877b8e4",
   "metadata": {},
   "outputs": [
    {
     "name": "stdout",
     "output_type": "stream",
     "text": [
      "Loaded model from epoch 2\n"
     ]
    },
    {
     "data": {
      "text/plain": [
       "DeepVO(\n",
       "  (conv1): Conv2d(6, 64, kernel_size=(7, 7), stride=(2, 2), padding=(3, 3))\n",
       "  (conv2): Conv2d(64, 128, kernel_size=(5, 5), stride=(2, 2), padding=(2, 2))\n",
       "  (conv3): Conv2d(128, 256, kernel_size=(5, 5), stride=(2, 2), padding=(2, 2))\n",
       "  (conv4): Conv2d(256, 256, kernel_size=(3, 3), stride=(2, 2), padding=(1, 1))\n",
       "  (relu): ReLU()\n",
       "  (rnn): LSTM(49152, 1000, batch_first=True)\n",
       "  (fc): Linear(in_features=1000, out_features=6, bias=True)\n",
       ")"
      ]
     },
     "execution_count": 3,
     "metadata": {},
     "output_type": "execute_result"
    }
   ],
   "source": [
    "\n",
    "model = DeepVO().to(device)\n",
    "\n",
    "optimizer = optim.Adam(model.parameters(), lr=1e-4)\n",
    "\n",
    "ckpt_path = \"checkpoints2_lstm/deepvo_checkpoint_lstm2_isep.pt\"\n",
    "\n",
    "if os.path.exists(ckpt_path):\n",
    "    checkpoint = torch.load(ckpt_path, map_location=device)\n",
    "    model.load_state_dict(checkpoint[\"model_state_dict\"])\n",
    "    optimizer.load_state_dict(checkpoint[\"optimizer_state_dict\"])\n",
    "    print(f\"Loaded model from epoch {checkpoint['epoch']+1}\")\n",
    "else:\n",
    "    raise FileNotFoundError(\"Model not found!\")\n",
    "\n",
    "model.eval()"
   ]
  },
  {
   "cell_type": "code",
   "execution_count": 4,
   "id": "18e4ef94",
   "metadata": {},
   "outputs": [],
   "source": [
    "\n",
    "#test_dataset = StepwiseDeepVODataset(\"data/train/05_cut_500\")\n",
    "test_dataset = StepwiseDeepVODataset(\"data/test/isep\")\n",
    "\n",
    "# Load only % of the data\n",
    "subset_size = int(1.0 * len(test_dataset))\n",
    "subset_indices = list(range(subset_size))\n",
    "\n",
    "train_subset = Subset(test_dataset, subset_indices)\n",
    "test_loader = DataLoader(train_subset, batch_size=10, shuffle=False)\n",
    "\n",
    "def test_old(model, dataloader, device):\n",
    "    model.eval()\n",
    "    preds = []\n",
    "    gts = []\n",
    "    with torch.no_grad():\n",
    "        for X, y in dataloader:\n",
    "            X = X.to(device)\n",
    "            pred = model(X)\n",
    "            preds.append(pred.cpu())\n",
    "            gts.append(y.cpu())\n",
    "    return torch.cat(preds), torch.cat(gts)\n",
    "\n",
    "def test(model, dataloader, device):\n",
    "    model.eval()\n",
    "    preds = []\n",
    "    gts = []\n",
    "    with torch.no_grad():\n",
    "        for X, y in dataloader:  # get both input and ground truth poses\n",
    "            X = X.to(device)\n",
    "            pred = model(X)  # (B, T, 6)\n",
    "            preds.append(pred[:, -1, :].cpu())  # only last predicted pose per sequence\n",
    "            gts.append(y[:, -1, :].cpu())       # only last ground truth pose per sequence\n",
    "    preds = torch.cat(preds)  # (num_sequences, 6)\n",
    "    gts = torch.cat(gts)      # (num_sequences, 6)\n",
    "    return preds, gts\n",
    "\n",
    "\n",
    "pred_outputs, gt_outputs = test(model, test_loader, device)\n"
   ]
  },
  {
   "cell_type": "code",
   "execution_count": 5,
   "id": "b1239ef3",
   "metadata": {},
   "outputs": [
    {
     "data": {
      "application/vnd.plotly.v1+json": {
       "config": {
        "plotlyServerURL": "https://plot.ly"
       },
       "data": [
        {
         "line": {
          "color": "green"
         },
         "mode": "lines",
         "name": "Ground Truth",
         "type": "scatter3d",
         "x": {
          "bdata": "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",
          "dtype": "f8"
         },
         "y": {
          "bdata": "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",
          "dtype": "f8"
         },
         "z": {
          "bdata": "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",
          "dtype": "f8"
         }
        },
        {
         "line": {
          "color": "red"
         },
         "mode": "lines",
         "name": "Predicted",
         "type": "scatter3d",
         "x": {
          "bdata": "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",
          "dtype": "f8"
         },
         "y": {
          "bdata": "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",
          "dtype": "f8"
         },
         "z": {
          "bdata": "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",
          "dtype": "f8"
         }
        }
       ],
       "layout": {
        "legend": {
         "x": 0,
         "y": 1
        },
        "margin": {
         "b": 0,
         "l": 0,
         "r": 0,
         "t": 30
        },
        "scene": {
         "aspectmode": "data",
         "xaxis": {
          "title": {
           "text": "X (m)"
          }
         },
         "yaxis": {
          "title": {
           "text": "Y (m)"
          }
         },
         "zaxis": {
          "title": {
           "text": "Z (m)"
          }
         }
        },
        "template": {
         "data": {
          "bar": [
           {
            "error_x": {
             "color": "#2a3f5f"
            },
            "error_y": {
             "color": "#2a3f5f"
            },
            "marker": {
             "line": {
              "color": "#E5ECF6",
              "width": 0.5
             },
             "pattern": {
              "fillmode": "overlay",
              "size": 10,
              "solidity": 0.2
             }
            },
            "type": "bar"
           }
          ],
          "barpolar": [
           {
            "marker": {
             "line": {
              "color": "#E5ECF6",
              "width": 0.5
             },
             "pattern": {
              "fillmode": "overlay",
              "size": 10,
              "solidity": 0.2
             }
            },
            "type": "barpolar"
           }
          ],
          "carpet": [
           {
            "aaxis": {
             "endlinecolor": "#2a3f5f",
             "gridcolor": "white",
             "linecolor": "white",
             "minorgridcolor": "white",
             "startlinecolor": "#2a3f5f"
            },
            "baxis": {
             "endlinecolor": "#2a3f5f",
             "gridcolor": "white",
             "linecolor": "white",
             "minorgridcolor": "white",
             "startlinecolor": "#2a3f5f"
            },
            "type": "carpet"
           }
          ],
          "choropleth": [
           {
            "colorbar": {
             "outlinewidth": 0,
             "ticks": ""
            },
            "type": "choropleth"
           }
          ],
          "contour": [
           {
            "colorbar": {
             "outlinewidth": 0,
             "ticks": ""
            },
            "colorscale": [
             [
              0,
              "#0d0887"
             ],
             [
              0.1111111111111111,
              "#46039f"
             ],
             [
              0.2222222222222222,
              "#7201a8"
             ],
             [
              0.3333333333333333,
              "#9c179e"
             ],
             [
              0.4444444444444444,
              "#bd3786"
             ],
             [
              0.5555555555555556,
              "#d8576b"
             ],
             [
              0.6666666666666666,
              "#ed7953"
             ],
             [
              0.7777777777777778,
              "#fb9f3a"
             ],
             [
              0.8888888888888888,
              "#fdca26"
             ],
             [
              1,
              "#f0f921"
             ]
            ],
            "type": "contour"
           }
          ],
          "contourcarpet": [
           {
            "colorbar": {
             "outlinewidth": 0,
             "ticks": ""
            },
            "type": "contourcarpet"
           }
          ],
          "heatmap": [
           {
            "colorbar": {
             "outlinewidth": 0,
             "ticks": ""
            },
            "colorscale": [
             [
              0,
              "#0d0887"
             ],
             [
              0.1111111111111111,
              "#46039f"
             ],
             [
              0.2222222222222222,
              "#7201a8"
             ],
             [
              0.3333333333333333,
              "#9c179e"
             ],
             [
              0.4444444444444444,
              "#bd3786"
             ],
             [
              0.5555555555555556,
              "#d8576b"
             ],
             [
              0.6666666666666666,
              "#ed7953"
             ],
             [
              0.7777777777777778,
              "#fb9f3a"
             ],
             [
              0.8888888888888888,
              "#fdca26"
             ],
             [
              1,
              "#f0f921"
             ]
            ],
            "type": "heatmap"
           }
          ],
          "histogram": [
           {
            "marker": {
             "pattern": {
              "fillmode": "overlay",
              "size": 10,
              "solidity": 0.2
             }
            },
            "type": "histogram"
           }
          ],
          "histogram2d": [
           {
            "colorbar": {
             "outlinewidth": 0,
             "ticks": ""
            },
            "colorscale": [
             [
              0,
              "#0d0887"
             ],
             [
              0.1111111111111111,
              "#46039f"
             ],
             [
              0.2222222222222222,
              "#7201a8"
             ],
             [
              0.3333333333333333,
              "#9c179e"
             ],
             [
              0.4444444444444444,
              "#bd3786"
             ],
             [
              0.5555555555555556,
              "#d8576b"
             ],
             [
              0.6666666666666666,
              "#ed7953"
             ],
             [
              0.7777777777777778,
              "#fb9f3a"
             ],
             [
              0.8888888888888888,
              "#fdca26"
             ],
             [
              1,
              "#f0f921"
             ]
            ],
            "type": "histogram2d"
           }
          ],
          "histogram2dcontour": [
           {
            "colorbar": {
             "outlinewidth": 0,
             "ticks": ""
            },
            "colorscale": [
             [
              0,
              "#0d0887"
             ],
             [
              0.1111111111111111,
              "#46039f"
             ],
             [
              0.2222222222222222,
              "#7201a8"
             ],
             [
              0.3333333333333333,
              "#9c179e"
             ],
             [
              0.4444444444444444,
              "#bd3786"
             ],
             [
              0.5555555555555556,
              "#d8576b"
             ],
             [
              0.6666666666666666,
              "#ed7953"
             ],
             [
              0.7777777777777778,
              "#fb9f3a"
             ],
             [
              0.8888888888888888,
              "#fdca26"
             ],
             [
              1,
              "#f0f921"
             ]
            ],
            "type": "histogram2dcontour"
           }
          ],
          "mesh3d": [
           {
            "colorbar": {
             "outlinewidth": 0,
             "ticks": ""
            },
            "type": "mesh3d"
           }
          ],
          "parcoords": [
           {
            "line": {
             "colorbar": {
              "outlinewidth": 0,
              "ticks": ""
             }
            },
            "type": "parcoords"
           }
          ],
          "pie": [
           {
            "automargin": true,
            "type": "pie"
           }
          ],
          "scatter": [
           {
            "fillpattern": {
             "fillmode": "overlay",
             "size": 10,
             "solidity": 0.2
            },
            "type": "scatter"
           }
          ],
          "scatter3d": [
           {
            "line": {
             "colorbar": {
              "outlinewidth": 0,
              "ticks": ""
             }
            },
            "marker": {
             "colorbar": {
              "outlinewidth": 0,
              "ticks": ""
             }
            },
            "type": "scatter3d"
           }
          ],
          "scattercarpet": [
           {
            "marker": {
             "colorbar": {
              "outlinewidth": 0,
              "ticks": ""
             }
            },
            "type": "scattercarpet"
           }
          ],
          "scattergeo": [
           {
            "marker": {
             "colorbar": {
              "outlinewidth": 0,
              "ticks": ""
             }
            },
            "type": "scattergeo"
           }
          ],
          "scattergl": [
           {
            "marker": {
             "colorbar": {
              "outlinewidth": 0,
              "ticks": ""
             }
            },
            "type": "scattergl"
           }
          ],
          "scattermap": [
           {
            "marker": {
             "colorbar": {
              "outlinewidth": 0,
              "ticks": ""
             }
            },
            "type": "scattermap"
           }
          ],
          "scattermapbox": [
           {
            "marker": {
             "colorbar": {
              "outlinewidth": 0,
              "ticks": ""
             }
            },
            "type": "scattermapbox"
           }
          ],
          "scatterpolar": [
           {
            "marker": {
             "colorbar": {
              "outlinewidth": 0,
              "ticks": ""
             }
            },
            "type": "scatterpolar"
           }
          ],
          "scatterpolargl": [
           {
            "marker": {
             "colorbar": {
              "outlinewidth": 0,
              "ticks": ""
             }
            },
            "type": "scatterpolargl"
           }
          ],
          "scatterternary": [
           {
            "marker": {
             "colorbar": {
              "outlinewidth": 0,
              "ticks": ""
             }
            },
            "type": "scatterternary"
           }
          ],
          "surface": [
           {
            "colorbar": {
             "outlinewidth": 0,
             "ticks": ""
            },
            "colorscale": [
             [
              0,
              "#0d0887"
             ],
             [
              0.1111111111111111,
              "#46039f"
             ],
             [
              0.2222222222222222,
              "#7201a8"
             ],
             [
              0.3333333333333333,
              "#9c179e"
             ],
             [
              0.4444444444444444,
              "#bd3786"
             ],
             [
              0.5555555555555556,
              "#d8576b"
             ],
             [
              0.6666666666666666,
              "#ed7953"
             ],
             [
              0.7777777777777778,
              "#fb9f3a"
             ],
             [
              0.8888888888888888,
              "#fdca26"
             ],
             [
              1,
              "#f0f921"
             ]
            ],
            "type": "surface"
           }
          ],
          "table": [
           {
            "cells": {
             "fill": {
              "color": "#EBF0F8"
             },
             "line": {
              "color": "white"
             }
            },
            "header": {
             "fill": {
              "color": "#C8D4E3"
             },
             "line": {
              "color": "white"
             }
            },
            "type": "table"
           }
          ]
         },
         "layout": {
          "annotationdefaults": {
           "arrowcolor": "#2a3f5f",
           "arrowhead": 0,
           "arrowwidth": 1
          },
          "autotypenumbers": "strict",
          "coloraxis": {
           "colorbar": {
            "outlinewidth": 0,
            "ticks": ""
           }
          },
          "colorscale": {
           "diverging": [
            [
             0,
             "#8e0152"
            ],
            [
             0.1,
             "#c51b7d"
            ],
            [
             0.2,
             "#de77ae"
            ],
            [
             0.3,
             "#f1b6da"
            ],
            [
             0.4,
             "#fde0ef"
            ],
            [
             0.5,
             "#f7f7f7"
            ],
            [
             0.6,
             "#e6f5d0"
            ],
            [
             0.7,
             "#b8e186"
            ],
            [
             0.8,
             "#7fbc41"
            ],
            [
             0.9,
             "#4d9221"
            ],
            [
             1,
             "#276419"
            ]
           ],
           "sequential": [
            [
             0,
             "#0d0887"
            ],
            [
             0.1111111111111111,
             "#46039f"
            ],
            [
             0.2222222222222222,
             "#7201a8"
            ],
            [
             0.3333333333333333,
             "#9c179e"
            ],
            [
             0.4444444444444444,
             "#bd3786"
            ],
            [
             0.5555555555555556,
             "#d8576b"
            ],
            [
             0.6666666666666666,
             "#ed7953"
            ],
            [
             0.7777777777777778,
             "#fb9f3a"
            ],
            [
             0.8888888888888888,
             "#fdca26"
            ],
            [
             1,
             "#f0f921"
            ]
           ],
           "sequentialminus": [
            [
             0,
             "#0d0887"
            ],
            [
             0.1111111111111111,
             "#46039f"
            ],
            [
             0.2222222222222222,
             "#7201a8"
            ],
            [
             0.3333333333333333,
             "#9c179e"
            ],
            [
             0.4444444444444444,
             "#bd3786"
            ],
            [
             0.5555555555555556,
             "#d8576b"
            ],
            [
             0.6666666666666666,
             "#ed7953"
            ],
            [
             0.7777777777777778,
             "#fb9f3a"
            ],
            [
             0.8888888888888888,
             "#fdca26"
            ],
            [
             1,
             "#f0f921"
            ]
           ]
          },
          "colorway": [
           "#636efa",
           "#EF553B",
           "#00cc96",
           "#ab63fa",
           "#FFA15A",
           "#19d3f3",
           "#FF6692",
           "#B6E880",
           "#FF97FF",
           "#FECB52"
          ],
          "font": {
           "color": "#2a3f5f"
          },
          "geo": {
           "bgcolor": "white",
           "lakecolor": "white",
           "landcolor": "#E5ECF6",
           "showlakes": true,
           "showland": true,
           "subunitcolor": "white"
          },
          "hoverlabel": {
           "align": "left"
          },
          "hovermode": "closest",
          "mapbox": {
           "style": "light"
          },
          "paper_bgcolor": "white",
          "plot_bgcolor": "#E5ECF6",
          "polar": {
           "angularaxis": {
            "gridcolor": "white",
            "linecolor": "white",
            "ticks": ""
           },
           "bgcolor": "#E5ECF6",
           "radialaxis": {
            "gridcolor": "white",
            "linecolor": "white",
            "ticks": ""
           }
          },
          "scene": {
           "xaxis": {
            "backgroundcolor": "#E5ECF6",
            "gridcolor": "white",
            "gridwidth": 2,
            "linecolor": "white",
            "showbackground": true,
            "ticks": "",
            "zerolinecolor": "white"
           },
           "yaxis": {
            "backgroundcolor": "#E5ECF6",
            "gridcolor": "white",
            "gridwidth": 2,
            "linecolor": "white",
            "showbackground": true,
            "ticks": "",
            "zerolinecolor": "white"
           },
           "zaxis": {
            "backgroundcolor": "#E5ECF6",
            "gridcolor": "white",
            "gridwidth": 2,
            "linecolor": "white",
            "showbackground": true,
            "ticks": "",
            "zerolinecolor": "white"
           }
          },
          "shapedefaults": {
           "line": {
            "color": "#2a3f5f"
           }
          },
          "ternary": {
           "aaxis": {
            "gridcolor": "white",
            "linecolor": "white",
            "ticks": ""
           },
           "baxis": {
            "gridcolor": "white",
            "linecolor": "white",
            "ticks": ""
           },
           "bgcolor": "#E5ECF6",
           "caxis": {
            "gridcolor": "white",
            "linecolor": "white",
            "ticks": ""
           }
          },
          "title": {
           "x": 0.05
          },
          "xaxis": {
           "automargin": true,
           "gridcolor": "white",
           "linecolor": "white",
           "ticks": "",
           "title": {
            "standoff": 15
           },
           "zerolinecolor": "white",
           "zerolinewidth": 2
          },
          "yaxis": {
           "automargin": true,
           "gridcolor": "white",
           "linecolor": "white",
           "ticks": "",
           "title": {
            "standoff": 15
           },
           "zerolinecolor": "white",
           "zerolinewidth": 2
          }
         }
        },
        "title": {
         "text": "Trajectory"
        }
       }
      }
     },
     "metadata": {},
     "output_type": "display_data"
    }
   ],
   "source": [
    "import plotly.graph_objs as go\n",
    "\n",
    "\n",
    "# -------------------------\n",
    "# Integrate and Plot\n",
    "# -------------------------\n",
    "def integrate_poses(y_output, start_pos=np.zeros(3), start_rot=R.identity()):\n",
    "    positions = [start_pos.copy()]\n",
    "    curr_rot = start_rot\n",
    "    curr_pos = start_pos.copy()\n",
    "    for i in range(y_output.shape[0]):\n",
    "        dpos = y_output[i, :3]\n",
    "        drot = y_output[i, 3:]\n",
    "        global_dpos = curr_rot.apply(dpos)\n",
    "        curr_pos += global_dpos\n",
    "        dR = R.from_rotvec(drot)\n",
    "        curr_rot = curr_rot * dR\n",
    "        positions.append(curr_pos.copy())\n",
    "    return np.array(positions)\n",
    "\n",
    "\n",
    "\n",
    "def plot_pred_vs_gt(pred_positions, gt_positions):\n",
    "    trace_gt = go.Scatter3d(\n",
    "        x=gt_positions[:, 0],\n",
    "        y=gt_positions[:, 1],\n",
    "        z=gt_positions[:, 2],\n",
    "        mode='lines',\n",
    "        name='Ground Truth',\n",
    "        line=dict(color='green')\n",
    "    )\n",
    "    \n",
    "    trace_pred = go.Scatter3d(\n",
    "        x=pred_positions[:, 0],\n",
    "        y=pred_positions[:, 1],\n",
    "        z=pred_positions[:, 2],\n",
    "        mode='lines',\n",
    "        name='Predicted',\n",
    "        line=dict(color='red')\n",
    "    )\n",
    "    \n",
    "    layout = go.Layout(\n",
    "        scene=dict(\n",
    "            xaxis_title='X',\n",
    "            yaxis_title='Y',\n",
    "            zaxis_title='Z'\n",
    "        ),\n",
    "        legend=dict(x=0, y=1),\n",
    "        margin=dict(l=0, r=0, b=0, t=0)\n",
    "    )\n",
    "    \n",
    "    fig = go.Figure(data=[trace_gt, trace_pred], layout=layout)\n",
    "        \n",
    "    fig.update_layout(\n",
    "        title=f'Trajectory',\n",
    "        scene=dict(\n",
    "            xaxis_title='X (m)',\n",
    "            yaxis_title='Y (m)',\n",
    "            zaxis_title='Z (m)',\n",
    "            aspectmode='data'\n",
    "        ),\n",
    "        margin=dict(l=0, r=0, b=0, t=30)\n",
    "    )\n",
    "\n",
    "    fig.show()\n",
    "\n",
    "\n",
    "\n",
    "# flatten batch and sequence dims to (T, 6)\n",
    "pred_outputs = pred_outputs.view(-1, 6).cpu().numpy()\n",
    "gt_outputs = gt_outputs.view(-1, 6).cpu().numpy()\n",
    "\n",
    "gt_positions = integrate_poses(gt_outputs)\n",
    "pred_positions = integrate_poses(pred_outputs, start_pos=gt_positions[0])\n",
    "\n",
    "plot_pred_vs_gt(pred_positions, gt_positions)"
   ]
  },
  {
   "cell_type": "code",
   "execution_count": 5,
   "id": "5cf60b1b",
   "metadata": {},
   "outputs": [
    {
     "data": {
      "application/vnd.plotly.v1+json": {
       "config": {
        "plotlyServerURL": "https://plot.ly"
       },
       "data": [
        {
         "line": {
          "color": "red",
          "width": 2
         },
         "marker": {
          "color": "red",
          "size": 4
         },
         "mode": "lines+markers",
         "type": "scatter3d",
         "x": {
          "bdata": "ZRniWBfnbUDHKTqSy7NtQK+UZYhjeW1ALGUZ4lghbUAr9pfdk9dsQKOSOgFNiGxAbAn5oGcVbECvlGWIY7lrQGq8dJMYWGtAPujZrPrQakBpAG+BBGlqQO/Jw0Kt/2lAXkvIBz1xaUBPHhZqTQVpQAXFjzF3mWhAfGEyVTAKaECoV8oyxJ9nQGx4eqUsE2dA845TdCSrZkALRiV1AkRmQK7YX3ZPvGVA4JwRpb1XZUAUrkfhevRkQMuhRbbzc2RA5x2n6EgYZEAukKD4McJjQArXo3A9WGNAN4lBYOUOY0B3vp8aL8tiQPAWSFD8fGJAKjqSy39MYkD9h/Tb1xViQBB6Nqs+92FAOpLLf0jhYUDKw0KtadBhQGfV52orymFAFYxK6gTGYUB4CyQofsRhQB1aZDvfw2FAqz5XW7HDYUCBJsKGp8VhQGb35GGhyGFADi2yne/LYUBxPQrXo9JhQD2bVZ+r12FAsVBrmnfeYUCdEaW9weNhQEi/fR046WFAxyk6ksvxYUBIUPwYc/dhQLUV+8vu/WFAj8L1KFwHYkAdOGdEaQ1iQHS1FfvLEmJAuY0G8BYaYkBtxf6yeyBiQEw3iUFgJ2JAMnctIR8wYkDf4AuTqTZiQG+BBMWPPWJASFD8GHNHYkCwcmiR7U5iQBkEVg4tWGJAMCqpE9BeYkAoDwu1pmViQJ2AJsKGbWJAcT0K16NyYkAUrkfhenhiQO0NvjCZgGJAPL1SliGGYkCamZmZmYtiQMxdS8gHk2JANV66SQyYYkBpAG+BBJ1iQMRCrWneo2JA8rBQa5qpYkA730+Nl7BiQCDSb18HtmJAUWuad5y6YkDl0CLb+bxiQMzuycNCuWJAZohjXdywYkBUdCSX/5xiQE5iEFg5iGJAFD/G3LVsYkBZF7fRAD5iQJm7lpAPEmJAf9k9eVjgYUAldQKaCJdhQIGVQ4tsWWFANKK0N/j+YEAdWmQ737NgQO58PzVeZGBAat5xio7gX0AHzhlR2idfQNEi2/l+al5A/mX35GFpXUBbsb/snqhcQA5Pr5Rl6FtA0SLb+X7uWkBfmEwVjDJaQDcawFsgeVlA/wkuVtSEWED5Tsx6MdBXQBqGj4gpH1dAaR1VTRBDVkCIhVrTvK1VQNRlMbH5AFVAGyrG+ZuUVED8HYoCfTZUQOcAwRw9wFNA5x2n6EhqU0BA9nr3xxdTQIbJVMGosFJAJt9sc2NoUkA2qz5XWyVSQN4CCYof21FA6dSVz/KwUUDlfoeiQI9RQMBbIEHxcVFAV89J7xtnUUCKsOHplV5RQM9J7xtfWVFA4gFlU65SUUAqkUQvoz5RQH/7OnDOJFFAwaikTkD/UEC62or9ZbNQQDuqmiDqbFBAppvEILAcUECskPKTaktPQE0tW+uLiE5APQ/uztq9TUD7V1aalJZMQBTQRNjwoEtALjnulA42SkAsK01KQQtJQNEF9S1zykdAeH+8V60ARkAO2xZlNpREQGhcOBCSEUNAfJv+7Ef2QEC+TX/2I60+QOP8TShEcDtAUBn/PuMiN0D4GRcOhOwzQOhNRSqMxTBAXhH8byVLKUBBuAIK9WQjQIv+0MyTCxhA",
          "dtype": "f8"
         },
         "y": {
          "bdata": "CI82jlhbNcB+b9Of/Tg1wBO4dTdPFTXAzH9Iv33lNMBhMlUwKsE0wJfFxObjmjTAd4TTghdlNMBlcJS8Oj80wPwYc9cSIjTAzVg0nZ38M8Ap6PaSxuAzwPLNNjemxzPAmWTkLOypM8AGgZVDi5QzwEjcY+lDfzPAXBsqxvlbM8BIFjCBWz8zwMHKoUW2EzPAn47HDFT2MsCztb5IaNsywEZ8J2a9uDLAoijQJ/KcMsDo2az6XH0ywFOu8C4XWTLAVvFG5pE/MsDIQQkzbScywAiUTbnCCzLA4V0u4jv5McBdbcX+suMxwFj/5zBfxjHAB1+YTBWsMcCvd3+8V40xwNE/wcWKejHAgc8PI4RnMcAMk6mCUVExwNmUK7zLPTHAIF7XL9gtMcB6jV2iehMxwDp15bM8/zDAtHbbhebqMMD+YOC599AwwPQau0T1vjDA6spneR6sMMD68gLso4swwBqGj4gpcTDAhIHn3sNVMMBCJhk5C0MwwG2tLxLaMjDA6WUUyy0dMMDCo40j1gowwGcng6Pk5S/AQrKACdyaL8BxVdl3RWAvwO2ePCzUKi/A/tR46SbhLsBSLLe0GrIuwEuTUtDtdS7AmDRG66gaLsALRiV1AtotwIDUJk7upy3A95LGaB1lLcCDbi9pjEYtwMCy0qQUBC3A3Xu45LjTLMA3ww34/LAswFzJjo1AXCzAVMa/z7gwLMCYTBWMSvorwI/8wcBznyvALIL/rWR3K8BCJhk5C0srwDyDhv4J/irAmrFoOjvZKsB/Tdaoh7gqwMGQ1a2eoyrATTJyFvaUKsCKzce1oYIqwInS3uALcyrAqIx/n3FhKsBoke18P0UqwJF++zpwLirACp3X2CUaKsC4BrZKsPgpwKBU+3Q81inAjPhOzHqxKcDfMqfLYnIpwGuCqPsARCnAPIOG/gkOKcAai6azk9EowDJ3LSEfpCjA2XxcGypmKMAfhetRuC4owLxXrUz4BSjAOX8TChHQJ8DghEIEHJInwPpEniRdYyfA6glLPKAcJ8AhByXMtN0mwPJetTLhpybA9aEL6ltmJsBubkxPWEImwDFCeLRxFCbA/+xHisjgJcCuga0SLK4lwPoK0oxFcyXA6znpfeMrJcA/UkSGVfwkwPUQje4gxiTAhXzQs1mlJMDnxvSEJY4kwOIeSx+6cCTA2gOtwJBVJMAP1v85zDckwDBHj9/bBCTA9KYiFcbuI8CMMbCO498jwGTpQxfU7yPAWK1M+KUOJMALmMCtuykkwJqxaDo7SSTAol2FlJ9kJMCzKVd4l4skwIf58gLsoyTAgGCOHr+3JMBORSqMLdQkwB+6oL5l3iTAP8bctYSsJMCtwJDVrU4kwBrdQexMESTAARQjS+bYI8CqfToeM4gjwEZ55uWwUyPA/RadLLUeI8Dh7qzdduEiwGn8witJpiLA4rA08KNaIsCWXMXiNx0iwExw6gPJ2yHAbHak+s5/IcBHkiBcAUUhwFeUEoJVBSHA1jcwuVGUIMClETP7PEYgwCCb5Ef86h/ASaKXUSwHH8AMIHwo0XIewEhQ/Bhz5x3ACI7LuKlxHcBbIhecwR8dwAVpxqLprBzA",
          "dtype": "f8"
         },
         "z": {
          "bdata": "rWnecYqgeEBlqmBUUo94QPmgZ7Pqf3hAbqMBvAVueEC+MJkqGGN4QPrt68A5WXhA8x/Sb19OeEBEi2zn+0d4QKK0N/jCQXhAGeJYF7c5eECwcmiR7TN4QNxoAG+BLnhAtRX7y+4neEAsZRniWCN4QFJJnYAmH3hANV66SQwaeEBtVn2uthZ4QLIubqMBE3hArK3YX3YQeECz6nO1FQ54QEku/yH9CnhAwhcmUwUJeEDMXUvIBwd4QKAaL90kBXhAnDOitDcEeECb5h2n6AN4QNcS8kHPA3hAS1mGONYCeEBPr5RliAB4QHicoiO5+ndAduCcEaXyd0D8qfHSTeB3QH/7OnDOzndAtTf4wmS6d0DecYqO5Jt3QCNKe4MvgndAHHxhMlVmd0BCz2bV5z53QAn5oGezHndAsAPnjCj8dkDaG3xhMsp2QKhXyjLEoXZANjy9UpZ2dkBd/kP67Th2QLTIdr6fCHZA7MA5I0rGdUALJCh+jJN1QA5Pr5RlYHVAnDOitDccdUAVjErqBOl0QKOSOgFNtnRAuY0G8BZydEDOqs/VVj50QKYKRiV1CXRA9ihcj8LBc0BQ/Bhz14pzQGfV52orU3NA46WbxCAIc0CBlUOLbM9yQKjGSzeJlnJA2IFzRpRLckAGgZVDixNyQE3zjlN0yXFAjErqBDSScUBXW7G/7FpxQGRd3EYDEnFAETY8vVLccEAIrBxaZKZwQB6n6EguYHBAgZVDi2wscEAZBFYOLfJvQHrHKTqSb29AQKTfvg4Sb0C2hHzQs7luQCsYldQJTG5ANs07TtH/bUDmriXkg6RtQBniWBe3Z21AbHh6pSwxbUAfhetRuPBsQOoENBE2xmxAw9MrZRmebEBq3nGKjmxsQG1Wfa62SmxALNSa5h0rbEB3LSEf9AZsQIC3QILi72tAqRPQRNjea0A6kst/SM9rQCbkg57NyGtAjSjtDb7Ca0Bhw9MrZb9rQJ0Rpb3BvWtACtejcD28a0AhH/RsVrtrQBsN4C2QumtA3SQGgZW3a0AbL90kBrVrQOqVsgxxsGtA8KfGSzena0AFNBE2PKFrQLKd76fGm2tAokW28/2Ua0CamZmZmY9rQBsv3SQGi2tArrZif9mFa0CFfNCzWYFrQDarPldbe2tAaLPqc7V3a0CV1AloInZrQLivA+eMeGtAY+5aQj6Aa0AFo5I6AY1rQEymCkYlpWtAX5hMFYzAa0AHX5hMFeJrQAFNhA1PGWxACfmgZ7NIbEC3Yn/ZPXdsQNBE2PD0tmxA8IXJVMHobEAIPZtVny1tQL3jFB3JYW1AuY0G8BaWbUCQMXctIdttQCqpE9BEDG5AI0p7gy82bkAHzhlR2mVuQEhQ/Bhzg25AzF1LyAeZbkAPnDOitKtuQLmNBvAWsG5AArwFEhSxbkAr9pfdk61uQABvgQTFqW5A1sVtNIClbkBbsb/snqJuQOcdp+hIoG5A16NwPQqdbkCmm8QgsJhuQEATYcPTk25AMQisHFqMbkCAt0CC4oVuQN21hHzQf25AkKD4MeZ4bkADCYofY3JuQJtVn6utam5AS1mGONZfbkC+wRcmU1duQI0o7Q2+TG5A",
          "dtype": "f8"
         }
        }
       ],
       "layout": {
        "margin": {
         "b": 0,
         "l": 0,
         "r": 0,
         "t": 30
        },
        "scene": {
         "aspectmode": "data",
         "xaxis": {
          "title": {
           "text": "X (m)"
          }
         },
         "yaxis": {
          "title": {
           "text": "Y (m)"
          }
         },
         "zaxis": {
          "title": {
           "text": "Z (m)"
          }
         }
        },
        "template": {
         "data": {
          "bar": [
           {
            "error_x": {
             "color": "#2a3f5f"
            },
            "error_y": {
             "color": "#2a3f5f"
            },
            "marker": {
             "line": {
              "color": "#E5ECF6",
              "width": 0.5
             },
             "pattern": {
              "fillmode": "overlay",
              "size": 10,
              "solidity": 0.2
             }
            },
            "type": "bar"
           }
          ],
          "barpolar": [
           {
            "marker": {
             "line": {
              "color": "#E5ECF6",
              "width": 0.5
             },
             "pattern": {
              "fillmode": "overlay",
              "size": 10,
              "solidity": 0.2
             }
            },
            "type": "barpolar"
           }
          ],
          "carpet": [
           {
            "aaxis": {
             "endlinecolor": "#2a3f5f",
             "gridcolor": "white",
             "linecolor": "white",
             "minorgridcolor": "white",
             "startlinecolor": "#2a3f5f"
            },
            "baxis": {
             "endlinecolor": "#2a3f5f",
             "gridcolor": "white",
             "linecolor": "white",
             "minorgridcolor": "white",
             "startlinecolor": "#2a3f5f"
            },
            "type": "carpet"
           }
          ],
          "choropleth": [
           {
            "colorbar": {
             "outlinewidth": 0,
             "ticks": ""
            },
            "type": "choropleth"
           }
          ],
          "contour": [
           {
            "colorbar": {
             "outlinewidth": 0,
             "ticks": ""
            },
            "colorscale": [
             [
              0,
              "#0d0887"
             ],
             [
              0.1111111111111111,
              "#46039f"
             ],
             [
              0.2222222222222222,
              "#7201a8"
             ],
             [
              0.3333333333333333,
              "#9c179e"
             ],
             [
              0.4444444444444444,
              "#bd3786"
             ],
             [
              0.5555555555555556,
              "#d8576b"
             ],
             [
              0.6666666666666666,
              "#ed7953"
             ],
             [
              0.7777777777777778,
              "#fb9f3a"
             ],
             [
              0.8888888888888888,
              "#fdca26"
             ],
             [
              1,
              "#f0f921"
             ]
            ],
            "type": "contour"
           }
          ],
          "contourcarpet": [
           {
            "colorbar": {
             "outlinewidth": 0,
             "ticks": ""
            },
            "type": "contourcarpet"
           }
          ],
          "heatmap": [
           {
            "colorbar": {
             "outlinewidth": 0,
             "ticks": ""
            },
            "colorscale": [
             [
              0,
              "#0d0887"
             ],
             [
              0.1111111111111111,
              "#46039f"
             ],
             [
              0.2222222222222222,
              "#7201a8"
             ],
             [
              0.3333333333333333,
              "#9c179e"
             ],
             [
              0.4444444444444444,
              "#bd3786"
             ],
             [
              0.5555555555555556,
              "#d8576b"
             ],
             [
              0.6666666666666666,
              "#ed7953"
             ],
             [
              0.7777777777777778,
              "#fb9f3a"
             ],
             [
              0.8888888888888888,
              "#fdca26"
             ],
             [
              1,
              "#f0f921"
             ]
            ],
            "type": "heatmap"
           }
          ],
          "histogram": [
           {
            "marker": {
             "pattern": {
              "fillmode": "overlay",
              "size": 10,
              "solidity": 0.2
             }
            },
            "type": "histogram"
           }
          ],
          "histogram2d": [
           {
            "colorbar": {
             "outlinewidth": 0,
             "ticks": ""
            },
            "colorscale": [
             [
              0,
              "#0d0887"
             ],
             [
              0.1111111111111111,
              "#46039f"
             ],
             [
              0.2222222222222222,
              "#7201a8"
             ],
             [
              0.3333333333333333,
              "#9c179e"
             ],
             [
              0.4444444444444444,
              "#bd3786"
             ],
             [
              0.5555555555555556,
              "#d8576b"
             ],
             [
              0.6666666666666666,
              "#ed7953"
             ],
             [
              0.7777777777777778,
              "#fb9f3a"
             ],
             [
              0.8888888888888888,
              "#fdca26"
             ],
             [
              1,
              "#f0f921"
             ]
            ],
            "type": "histogram2d"
           }
          ],
          "histogram2dcontour": [
           {
            "colorbar": {
             "outlinewidth": 0,
             "ticks": ""
            },
            "colorscale": [
             [
              0,
              "#0d0887"
             ],
             [
              0.1111111111111111,
              "#46039f"
             ],
             [
              0.2222222222222222,
              "#7201a8"
             ],
             [
              0.3333333333333333,
              "#9c179e"
             ],
             [
              0.4444444444444444,
              "#bd3786"
             ],
             [
              0.5555555555555556,
              "#d8576b"
             ],
             [
              0.6666666666666666,
              "#ed7953"
             ],
             [
              0.7777777777777778,
              "#fb9f3a"
             ],
             [
              0.8888888888888888,
              "#fdca26"
             ],
             [
              1,
              "#f0f921"
             ]
            ],
            "type": "histogram2dcontour"
           }
          ],
          "mesh3d": [
           {
            "colorbar": {
             "outlinewidth": 0,
             "ticks": ""
            },
            "type": "mesh3d"
           }
          ],
          "parcoords": [
           {
            "line": {
             "colorbar": {
              "outlinewidth": 0,
              "ticks": ""
             }
            },
            "type": "parcoords"
           }
          ],
          "pie": [
           {
            "automargin": true,
            "type": "pie"
           }
          ],
          "scatter": [
           {
            "fillpattern": {
             "fillmode": "overlay",
             "size": 10,
             "solidity": 0.2
            },
            "type": "scatter"
           }
          ],
          "scatter3d": [
           {
            "line": {
             "colorbar": {
              "outlinewidth": 0,
              "ticks": ""
             }
            },
            "marker": {
             "colorbar": {
              "outlinewidth": 0,
              "ticks": ""
             }
            },
            "type": "scatter3d"
           }
          ],
          "scattercarpet": [
           {
            "marker": {
             "colorbar": {
              "outlinewidth": 0,
              "ticks": ""
             }
            },
            "type": "scattercarpet"
           }
          ],
          "scattergeo": [
           {
            "marker": {
             "colorbar": {
              "outlinewidth": 0,
              "ticks": ""
             }
            },
            "type": "scattergeo"
           }
          ],
          "scattergl": [
           {
            "marker": {
             "colorbar": {
              "outlinewidth": 0,
              "ticks": ""
             }
            },
            "type": "scattergl"
           }
          ],
          "scattermap": [
           {
            "marker": {
             "colorbar": {
              "outlinewidth": 0,
              "ticks": ""
             }
            },
            "type": "scattermap"
           }
          ],
          "scattermapbox": [
           {
            "marker": {
             "colorbar": {
              "outlinewidth": 0,
              "ticks": ""
             }
            },
            "type": "scattermapbox"
           }
          ],
          "scatterpolar": [
           {
            "marker": {
             "colorbar": {
              "outlinewidth": 0,
              "ticks": ""
             }
            },
            "type": "scatterpolar"
           }
          ],
          "scatterpolargl": [
           {
            "marker": {
             "colorbar": {
              "outlinewidth": 0,
              "ticks": ""
             }
            },
            "type": "scatterpolargl"
           }
          ],
          "scatterternary": [
           {
            "marker": {
             "colorbar": {
              "outlinewidth": 0,
              "ticks": ""
             }
            },
            "type": "scatterternary"
           }
          ],
          "surface": [
           {
            "colorbar": {
             "outlinewidth": 0,
             "ticks": ""
            },
            "colorscale": [
             [
              0,
              "#0d0887"
             ],
             [
              0.1111111111111111,
              "#46039f"
             ],
             [
              0.2222222222222222,
              "#7201a8"
             ],
             [
              0.3333333333333333,
              "#9c179e"
             ],
             [
              0.4444444444444444,
              "#bd3786"
             ],
             [
              0.5555555555555556,
              "#d8576b"
             ],
             [
              0.6666666666666666,
              "#ed7953"
             ],
             [
              0.7777777777777778,
              "#fb9f3a"
             ],
             [
              0.8888888888888888,
              "#fdca26"
             ],
             [
              1,
              "#f0f921"
             ]
            ],
            "type": "surface"
           }
          ],
          "table": [
           {
            "cells": {
             "fill": {
              "color": "#EBF0F8"
             },
             "line": {
              "color": "white"
             }
            },
            "header": {
             "fill": {
              "color": "#C8D4E3"
             },
             "line": {
              "color": "white"
             }
            },
            "type": "table"
           }
          ]
         },
         "layout": {
          "annotationdefaults": {
           "arrowcolor": "#2a3f5f",
           "arrowhead": 0,
           "arrowwidth": 1
          },
          "autotypenumbers": "strict",
          "coloraxis": {
           "colorbar": {
            "outlinewidth": 0,
            "ticks": ""
           }
          },
          "colorscale": {
           "diverging": [
            [
             0,
             "#8e0152"
            ],
            [
             0.1,
             "#c51b7d"
            ],
            [
             0.2,
             "#de77ae"
            ],
            [
             0.3,
             "#f1b6da"
            ],
            [
             0.4,
             "#fde0ef"
            ],
            [
             0.5,
             "#f7f7f7"
            ],
            [
             0.6,
             "#e6f5d0"
            ],
            [
             0.7,
             "#b8e186"
            ],
            [
             0.8,
             "#7fbc41"
            ],
            [
             0.9,
             "#4d9221"
            ],
            [
             1,
             "#276419"
            ]
           ],
           "sequential": [
            [
             0,
             "#0d0887"
            ],
            [
             0.1111111111111111,
             "#46039f"
            ],
            [
             0.2222222222222222,
             "#7201a8"
            ],
            [
             0.3333333333333333,
             "#9c179e"
            ],
            [
             0.4444444444444444,
             "#bd3786"
            ],
            [
             0.5555555555555556,
             "#d8576b"
            ],
            [
             0.6666666666666666,
             "#ed7953"
            ],
            [
             0.7777777777777778,
             "#fb9f3a"
            ],
            [
             0.8888888888888888,
             "#fdca26"
            ],
            [
             1,
             "#f0f921"
            ]
           ],
           "sequentialminus": [
            [
             0,
             "#0d0887"
            ],
            [
             0.1111111111111111,
             "#46039f"
            ],
            [
             0.2222222222222222,
             "#7201a8"
            ],
            [
             0.3333333333333333,
             "#9c179e"
            ],
            [
             0.4444444444444444,
             "#bd3786"
            ],
            [
             0.5555555555555556,
             "#d8576b"
            ],
            [
             0.6666666666666666,
             "#ed7953"
            ],
            [
             0.7777777777777778,
             "#fb9f3a"
            ],
            [
             0.8888888888888888,
             "#fdca26"
            ],
            [
             1,
             "#f0f921"
            ]
           ]
          },
          "colorway": [
           "#636efa",
           "#EF553B",
           "#00cc96",
           "#ab63fa",
           "#FFA15A",
           "#19d3f3",
           "#FF6692",
           "#B6E880",
           "#FF97FF",
           "#FECB52"
          ],
          "font": {
           "color": "#2a3f5f"
          },
          "geo": {
           "bgcolor": "white",
           "lakecolor": "white",
           "landcolor": "#E5ECF6",
           "showlakes": true,
           "showland": true,
           "subunitcolor": "white"
          },
          "hoverlabel": {
           "align": "left"
          },
          "hovermode": "closest",
          "mapbox": {
           "style": "light"
          },
          "paper_bgcolor": "white",
          "plot_bgcolor": "#E5ECF6",
          "polar": {
           "angularaxis": {
            "gridcolor": "white",
            "linecolor": "white",
            "ticks": ""
           },
           "bgcolor": "#E5ECF6",
           "radialaxis": {
            "gridcolor": "white",
            "linecolor": "white",
            "ticks": ""
           }
          },
          "scene": {
           "xaxis": {
            "backgroundcolor": "#E5ECF6",
            "gridcolor": "white",
            "gridwidth": 2,
            "linecolor": "white",
            "showbackground": true,
            "ticks": "",
            "zerolinecolor": "white"
           },
           "yaxis": {
            "backgroundcolor": "#E5ECF6",
            "gridcolor": "white",
            "gridwidth": 2,
            "linecolor": "white",
            "showbackground": true,
            "ticks": "",
            "zerolinecolor": "white"
           },
           "zaxis": {
            "backgroundcolor": "#E5ECF6",
            "gridcolor": "white",
            "gridwidth": 2,
            "linecolor": "white",
            "showbackground": true,
            "ticks": "",
            "zerolinecolor": "white"
           }
          },
          "shapedefaults": {
           "line": {
            "color": "#2a3f5f"
           }
          },
          "ternary": {
           "aaxis": {
            "gridcolor": "white",
            "linecolor": "white",
            "ticks": ""
           },
           "baxis": {
            "gridcolor": "white",
            "linecolor": "white",
            "ticks": ""
           },
           "bgcolor": "#E5ECF6",
           "caxis": {
            "gridcolor": "white",
            "linecolor": "white",
            "ticks": ""
           }
          },
          "title": {
           "x": 0.05
          },
          "xaxis": {
           "automargin": true,
           "gridcolor": "white",
           "linecolor": "white",
           "ticks": "",
           "title": {
            "standoff": 15
           },
           "zerolinecolor": "white",
           "zerolinewidth": 2
          },
          "yaxis": {
           "automargin": true,
           "gridcolor": "white",
           "linecolor": "white",
           "ticks": "",
           "title": {
            "standoff": 15
           },
           "zerolinecolor": "white",
           "zerolinewidth": 2
          }
         }
        },
        "title": {
         "text": "Trajectory from KITTI Poses (sampled points = 150)"
        }
       }
      }
     },
     "metadata": {},
     "output_type": "display_data"
    }
   ],
   "source": [
    "import numpy as np\n",
    "import plotly.graph_objs as go\n",
    "\n",
    "pose_file = \"/home/ros_ws/noetic/data/kitti/data_odometry_poses/00_cut.txt\"\n",
    "\n",
    "# Read poses\n",
    "poses = []\n",
    "with open(pose_file, 'r') as f:\n",
    "    for line in f:\n",
    "        vals = list(map(float, line.strip().split()))\n",
    "        if len(vals) != 12:\n",
    "            continue\n",
    "        pose = np.array(vals).reshape(3, 4)\n",
    "        poses.append(pose)\n",
    "\n",
    "positions = np.array([pose[:, 3] for pose in poses])\n",
    "\n",
    "# Calculate 0.1% sampling indices (at least 1 point)\n",
    "num_points = len(positions)\n",
    "sample_size = max(1, int(num_points * 0.3))\n",
    "sample_indices = np.linspace(0, num_points - 1, sample_size).astype(int)\n",
    "sampled_positions = positions[sample_indices]\n",
    "\n",
    "x = sampled_positions[:, 0]\n",
    "y = sampled_positions[:, 1]\n",
    "z = sampled_positions[:, 2]\n",
    "\n",
    "fig = go.Figure(data=[go.Scatter3d(\n",
    "    x=x, y=y, z=z,\n",
    "    mode='lines+markers',\n",
    "    marker=dict(size=4, color='red'),  # bigger & red so sparse points stand out\n",
    "    line=dict(width=2, color='red')\n",
    ")])\n",
    "\n",
    "fig.update_layout(\n",
    "    title=f'Trajectory from KITTI Poses (sampled points = {sample_size})',\n",
    "    scene=dict(\n",
    "        xaxis_title='X (m)',\n",
    "        yaxis_title='Y (m)',\n",
    "        zaxis_title='Z (m)',\n",
    "        aspectmode='data'\n",
    "    ),\n",
    "    margin=dict(l=0, r=0, b=0, t=30)\n",
    ")\n",
    "\n",
    "fig.show()\n"
   ]
  },
  {
   "cell_type": "markdown",
   "id": "f342eebf",
   "metadata": {},
   "source": [
    "Create npz files for training"
   ]
  },
  {
   "cell_type": "code",
   "execution_count": 6,
   "id": "c9d88d1c",
   "metadata": {},
   "outputs": [
    {
     "name": "stderr",
     "output_type": "stream",
     "text": [
      "  0%|          | 0/3007 [00:00<?, ?it/s]"
     ]
    },
    {
     "name": "stderr",
     "output_type": "stream",
     "text": [
      "100%|██████████| 3007/3007 [00:00<00:00, 8661.75it/s]\n"
     ]
    }
   ],
   "source": [
    "import os\n",
    "import cv2\n",
    "import numpy as np\n",
    "from tqdm import tqdm\n",
    "\n",
    "def load_poses(pose_file):\n",
    "    poses = []\n",
    "    with open(pose_file, 'r') as f:\n",
    "        for line in f:\n",
    "            T = np.array(list(map(float, line.strip().split()))).reshape(3, 4)\n",
    "            pose = np.eye(4)\n",
    "            pose[:3, :] = T\n",
    "            poses.append(pose)\n",
    "    return poses\n",
    "\n",
    "def compute_rel_poses(poses):\n",
    "    rel_poses = []\n",
    "    for i in range(1, len(poses)):\n",
    "        rel = np.linalg.inv(poses[i-1]) @ poses[i]\n",
    "        trans = rel[:3, 3]\n",
    "        rot = rel[:3, :3]\n",
    "        rpy = cv2.Rodrigues(rot)[0].flatten()\n",
    "        rel_poses.append(np.hstack([trans, rpy]))\n",
    "    return np.array(rel_poses)\n",
    "\n",
    "def preprocess_lightweight(seq, save_dir, img_size=(128, 384)):\n",
    "    os.makedirs(save_dir, exist_ok=True)\n",
    "    #img_dir = f\"/home/ros_ws/noetic/data/kitti/sequences/{seq}/image_0\"\n",
    "    #pose_file = f\"/home/ros_ws/noetic/data/kitti/data_odometry_poses/{seq}.txt\"\n",
    "    img_dir = f\"/home/ros_ws/noetic/data/isep/dataset_stereo_front_left/kitti_style/train/images\"\n",
    "    pose_file = f\"/home/ros_ws/noetic/data/isep/dataset_stereo_front_left/kitti_style/train/poses.txt\"\n",
    "\n",
    "    images = sorted(os.listdir(img_dir))\n",
    "    poses = load_poses(pose_file)\n",
    "    rel_poses = compute_rel_poses(poses)\n",
    "\n",
    "    for i in tqdm(range(len(rel_poses))):\n",
    "        data = {\n",
    "            'img1': os.path.join(img_dir, images[i]),\n",
    "            'img2': os.path.join(img_dir, images[i+1]),\n",
    "            'pose': rel_poses[i]\n",
    "        }\n",
    "        np.savez(os.path.join(save_dir, f\"{i:06d}.npz\"), **data)\n",
    "\n",
    "# Example usage\n",
    "preprocess_lightweight(\"isep\", \"data/train/isep\", img_size=(128, 384))\n"
   ]
  },
  {
   "cell_type": "code",
   "execution_count": 10,
   "id": "efbb9a56",
   "metadata": {},
   "outputs": [
    {
     "name": "stdout",
     "output_type": "stream",
     "text": [
      "0: img1 = /home/ros_ws/noetic/data/kitti/sequences/00_cut/image_0/003000.png\n",
      "   img2 = /home/ros_ws/noetic/data/kitti/sequences/00_cut/image_0/003001.png\n",
      "1: img1 = /home/ros_ws/noetic/data/kitti/sequences/00_cut/image_0/003001.png\n",
      "   img2 = /home/ros_ws/noetic/data/kitti/sequences/00_cut/image_0/003002.png\n",
      "2: img1 = /home/ros_ws/noetic/data/kitti/sequences/00_cut/image_0/003002.png\n",
      "   img2 = /home/ros_ws/noetic/data/kitti/sequences/00_cut/image_0/003003.png\n",
      "3: img1 = /home/ros_ws/noetic/data/kitti/sequences/00_cut/image_0/003003.png\n",
      "   img2 = /home/ros_ws/noetic/data/kitti/sequences/00_cut/image_0/003004.png\n",
      "4: img1 = /home/ros_ws/noetic/data/kitti/sequences/00_cut/image_0/003004.png\n",
      "   img2 = /home/ros_ws/noetic/data/kitti/sequences/00_cut/image_0/003005.png\n"
     ]
    }
   ],
   "source": [
    "import os\n",
    "import numpy as np\n",
    "import matplotlib.pyplot as plt\n",
    "\n",
    "def plot_image_paths(data_dir, num_samples=5):\n",
    "    files = sorted(os.listdir(data_dir))[:num_samples]\n",
    "\n",
    "    img1_paths = []\n",
    "    img2_paths = []\n",
    "\n",
    "    for file in files:\n",
    "        data = np.load(os.path.join(data_dir, file), allow_pickle=True)\n",
    "        img1_paths.append(data['img1'].item())\n",
    "        img2_paths.append(data['img2'].item())\n",
    "\n",
    "    for i in range(num_samples):\n",
    "        print(f\"{i}: img1 = {img1_paths[i]}\")\n",
    "        print(f\"   img2 = {img2_paths[i]}\")\n",
    "\n",
    "# Example usage\n",
    "plot_image_paths(\"data/train/00_cut\", num_samples=5)\n"
   ]
  },
  {
   "cell_type": "code",
   "execution_count": 1,
   "id": "78fec5f5",
   "metadata": {},
   "outputs": [
    {
     "name": "stdout",
     "output_type": "stream",
     "text": [
      "<class 'numpy.ndarray'>\n",
      "(370, 1226, 3)\n",
      "<class 'tuple'>\n"
     ]
    }
   ],
   "source": [
    "import cv2\n",
    "\n",
    "im = cv2.imread('/home/ros_ws/noetic/data/kitti/sequences/05/image_0/000000.png')\n",
    "\n",
    "print(type(im))\n",
    "print(im.shape)\n",
    "print(type(im.shape))"
   ]
  }
 ],
 "metadata": {
  "kernelspec": {
   "display_name": "Python 3",
   "language": "python",
   "name": "python3"
  },
  "language_info": {
   "codemirror_mode": {
    "name": "ipython",
    "version": 3
   },
   "file_extension": ".py",
   "mimetype": "text/x-python",
   "name": "python",
   "nbconvert_exporter": "python",
   "pygments_lexer": "ipython3",
   "version": "3.10.12"
  }
 },
 "nbformat": 4,
 "nbformat_minor": 5
}
