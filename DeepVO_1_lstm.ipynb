{
 "cells": [
  {
   "cell_type": "code",
   "execution_count": null,
   "id": "09635433",
   "metadata": {},
   "outputs": [],
   "source": [
    "import os\n",
    "import cv2\n",
    "import numpy as np\n",
    "import torch\n",
    "import torch.nn as nn\n",
    "from torch.utils.data import Dataset, DataLoader\n",
    "import torch.optim as optim\n",
    "from torchvision import transforms\n",
    "from scipy.spatial.transform import Rotation as R\n",
    "\n",
    "from torch.utils.data import DataLoader, Subset\n",
    "import torch.nn.functional as F\n",
    "\n",
    "# -------------------------\n",
    "# Dataset\n",
    "# -------------------------\n",
    "class StepwiseDeepVODataset(Dataset):\n",
    "    def __init__(self, data_dir, img_size=(128, 384), transform=None, seq_len=5):\n",
    "        self.files = sorted(os.listdir(data_dir))\n",
    "        self.data_dir = data_dir\n",
    "        self.img_size = img_size\n",
    "        self.seq_len = seq_len\n",
    "\n",
    "        self.transform = transform or transforms.Compose([\n",
    "            transforms.ToPILImage(),\n",
    "            transforms.Resize(self.img_size),\n",
    "            transforms.ToTensor()\n",
    "        ])\n",
    "\n",
    "    def __len__(self):\n",
    "        return len(self.files) - self.seq_len + 1  # Prevent overshooting\n",
    "\n",
    "    def __getitem__(self, idx):\n",
    "        images = []\n",
    "        poses = []\n",
    "        for i in range(self.seq_len):\n",
    "            item_path = os.path.join(self.data_dir, self.files[idx + i])\n",
    "            item = np.load(item_path, allow_pickle=True)\n",
    "            img1 = cv2.imread(item['img1'].item())\n",
    "            img2 = cv2.imread(item['img2'].item())\n",
    "\n",
    "            if img1 is None or img2 is None:\n",
    "                raise ValueError(f\"Image read failed at index {idx + i}: {item['img1'].item()} or {item['img2'].item()}\")\n",
    "\n",
    "            img1 = self.transform(img1)\n",
    "            img2 = self.transform(img2)\n",
    "            \n",
    "            pair = torch.cat([img1, img2], dim=0)\n",
    "\n",
    "            images.append(pair)\n",
    "            poses.append(item['pose'])\n",
    "\n",
    "        #images = np.array(images)\n",
    "        #poses = np.array(poses)\n",
    "        #return torch.tensor(images, dtype=torch.float32), torch.tensor(poses, dtype=torch.float32)\n",
    "        images = torch.stack(images)  # shape (seq_len, 6, H, W)\n",
    "        poses = torch.from_numpy(np.array(poses)).float()\n",
    "\n",
    "        return images, poses\n",
    "\n",
    "    \n",
    "# -------------------------\n",
    "# Model\n",
    "# -------------------------\n",
    "class DeepVO(nn.Module):\n",
    "    def __init__(self, input_size=(128, 384), hidden_size=1000, rnn_layers=1):\n",
    "        super(DeepVO, self).__init__()\n",
    "        self.conv1 = nn.Conv2d(6, 64, kernel_size=7, stride=2, padding=3)\n",
    "        self.conv2 = nn.Conv2d(64, 128, kernel_size=5, stride=2, padding=2)\n",
    "        self.conv3 = nn.Conv2d(128, 256, kernel_size=5, stride=2, padding=2)\n",
    "        self.conv4 = nn.Conv2d(256, 256, kernel_size=3, stride=2, padding=1)\n",
    "        self.relu = nn.ReLU()\n",
    "\n",
    "        # Compute flattened conv feature size\n",
    "        dummy_input = torch.zeros(1, 6, *input_size)\n",
    "        with torch.no_grad():\n",
    "            x = self.relu(self.conv1(dummy_input))\n",
    "            x = self.relu(self.conv2(x))\n",
    "            x = self.relu(self.conv3(x))\n",
    "            x = self.relu(self.conv4(x))\n",
    "            #conv_out_size = 49152 #x.view(1, -1).shape[1]\n",
    "            conv_out_size = x.view(1, -1).shape[1]\n",
    "\n",
    "        self.rnn = nn.LSTM(input_size=conv_out_size,\n",
    "                           hidden_size=hidden_size,\n",
    "                           num_layers=rnn_layers,\n",
    "                           batch_first=True)\n",
    "\n",
    "        self.fc = nn.Linear(hidden_size, 6)\n",
    "\n",
    "    def forward(self, x):\n",
    "        batch_size, seq_len, c, h, w = x.size()  # Expected input shape: (B, T, C, H, W)\n",
    "        x = x.view(batch_size * seq_len, c, h, w)\n",
    "\n",
    "        x = self.relu(self.conv1(x))\n",
    "        x = self.relu(self.conv2(x))\n",
    "        x = self.relu(self.conv3(x))\n",
    "        x = self.relu(self.conv4(x))\n",
    "        #print(\"CNN output shape:\", x.shape)  # Before x = x.reshape(...)\n",
    "\n",
    "        x = x.reshape(batch_size, seq_len, -1)  # (B, T, FeatureDim)\n",
    "\n",
    "        rnn_out, _ = self.rnn(x)\n",
    "        output = self.fc(rnn_out)  # (B, T, 6)\n",
    "        return output\n",
    "\n",
    "class DeepVO(nn.Module):\n",
    "    def __init__(self, input_size=(128, 384), hidden_size=1000, rnn_layers=2):\n",
    "        super(DeepVO, self).__init__()\n",
    "        self.leaky_relu = nn.LeakyReLU(0.1)\n",
    "\n",
    "        self.conv1 = nn.Conv2d(6, 64, kernel_size=7, stride=2, padding=3)\n",
    "        self.conv2 = nn.Conv2d(64, 128, kernel_size=5, stride=2, padding=2)\n",
    "        self.conv3 = nn.Conv2d(128, 256, kernel_size=5, stride=2, padding=2)\n",
    "        self.conv3_1 = nn.Conv2d(256, 256, kernel_size=3, stride=1, padding=1)\n",
    "        self.conv4 = nn.Conv2d(256, 512, kernel_size=3, stride=2, padding=1)\n",
    "        self.conv4_1 = nn.Conv2d(512, 512, kernel_size=3, stride=1, padding=1)\n",
    "        self.conv5 = nn.Conv2d(512, 512, kernel_size=3, stride=2, padding=1)\n",
    "        self.conv5_1 = nn.Conv2d(512, 512, kernel_size=3, stride=1, padding=1)\n",
    "        self.conv6 = nn.Conv2d(512, 1024, kernel_size=3, stride=2, padding=1)\n",
    "\n",
    "        self.dropout = nn.Dropout(p=0.5)\n",
    "\n",
    "        # Compute flattened CNN output size\n",
    "        dummy_input = torch.zeros(1, 6, *input_size)\n",
    "        with torch.no_grad():\n",
    "            x = self.forward_cnn(dummy_input)\n",
    "            conv_out_size = x.view(1, -1).shape[1]\n",
    "\n",
    "        self.rnn = nn.LSTM(input_size=conv_out_size,\n",
    "                           hidden_size=hidden_size,\n",
    "                           num_layers=rnn_layers,\n",
    "                           batch_first=True)\n",
    "\n",
    "        self.fc = nn.Linear(hidden_size, 6)\n",
    "\n",
    "    def forward_cnn(self, x):\n",
    "        x = self.leaky_relu(self.conv1(x))\n",
    "        x = self.leaky_relu(self.conv2(x))\n",
    "        x = self.leaky_relu(self.conv3(x))\n",
    "        x = self.leaky_relu(self.conv3_1(x))\n",
    "        x = self.leaky_relu(self.conv4(x))\n",
    "        x = self.leaky_relu(self.conv4_1(x))\n",
    "        x = self.leaky_relu(self.conv5(x))\n",
    "        x = self.leaky_relu(self.conv5_1(x))\n",
    "        x = self.leaky_relu(self.conv6(x))\n",
    "        return x\n",
    "\n",
    "    def forward(self, x):\n",
    "        batch_size, seq_len, c, h, w = x.size()\n",
    "        x = x.view(batch_size * seq_len, c, h, w)\n",
    "\n",
    "        x = self.forward_cnn(x)  # (B*T, C, H', W')\n",
    "        x = x.view(batch_size, seq_len, -1)  # (B, T, FeatureDim)\n",
    "\n",
    "        x = self.dropout(x)\n",
    "\n",
    "        rnn_out, _ = self.rnn(x)\n",
    "        output = self.fc(rnn_out)\n",
    "        return output\n",
    "\n",
    "\n",
    "\n",
    "# -------------------------\n",
    "# Training and Testing\n",
    "# -------------------------\n",
    "scaler = torch.amp.GradScaler()\n",
    "\n",
    "def train(model, dataloader, optimizer, criterion, device):\n",
    "    model.train()\n",
    "    total_loss = 0\n",
    "    for X, y in dataloader:\n",
    "        X, y = X.to(device), y.to(device)\n",
    "        optimizer.zero_grad()\n",
    "\n",
    "        with torch.amp.autocast(device_type=device):\n",
    "            pred = model(X)\n",
    "            loss = criterion(pred, y)\n",
    "\n",
    "        scaler.scale(loss).backward()\n",
    "\n",
    "        # Clip gradients here\n",
    "        scaler.unscale_(optimizer)  # Unscale first before clipping\n",
    "        torch.nn.utils.clip_grad_norm_(model.parameters(), max_norm=5.0)\n",
    "\n",
    "        scaler.step(optimizer)\n",
    "        scaler.update()\n",
    "\n",
    "        # pred = model(X)\n",
    "        # loss = criterion(pred, y)\n",
    "\n",
    "        # loss.backward()\n",
    "        # torch.nn.utils.clip_grad_norm_(model.parameters(), max_norm=5.0)\n",
    "        # optimizer.step()\n",
    "\n",
    "        total_loss += loss.item()\n",
    "    return total_loss / len(dataloader)\n",
    "\n",
    "\n",
    "device = 'cuda' if torch.cuda.is_available() else 'cpu'"
   ]
  },
  {
   "cell_type": "code",
   "execution_count": 2,
   "id": "e6d699e4",
   "metadata": {},
   "outputs": [],
   "source": [
    "train_dataset = StepwiseDeepVODataset(\"data/train/00_short\")\n",
    "#train_dataset = StepwiseDeepVODataset(\"data/train/08\")\n",
    "#train_dataset = StepwiseDeepVODataset(\"data/train/isep\")\n",
    "\n",
    "# Load only % of the data\n",
    "subset_size = int(1.0 * len(train_dataset))\n",
    "subset_indices = list(range(subset_size))\n",
    "\n",
    "train_subset = Subset(train_dataset, subset_indices)\n",
    "\n",
    "train_loader = DataLoader(train_subset, batch_size=10, shuffle=True)"
   ]
  },
  {
   "cell_type": "code",
   "execution_count": 3,
   "id": "0d0afd16",
   "metadata": {},
   "outputs": [
    {
     "name": "stdout",
     "output_type": "stream",
     "text": [
      "Loaded checkpoint from epoch 3\n",
      "Epoch 3, Loss: 0.0024\n",
      "Epoch 4, Loss: 0.0009\n",
      "Epoch 5, Loss: 0.0005\n",
      "Epoch 6, Loss: 0.0002\n",
      "Epoch 7, Loss: 0.0002\n",
      "Epoch 8, Loss: 0.0001\n",
      "Epoch 9, Loss: 0.0001\n",
      "Epoch 10, Loss: 0.0001\n"
     ]
    },
    {
     "ename": "KeyboardInterrupt",
     "evalue": "",
     "output_type": "error",
     "traceback": [
      "\u001b[0;31m---------------------------------------------------------------------------\u001b[0m",
      "\u001b[0;31mKeyboardInterrupt\u001b[0m                         Traceback (most recent call last)",
      "Cell \u001b[0;32mIn[3], line 50\u001b[0m\n\u001b[1;32m     47\u001b[0m     \u001b[38;5;28mprint\u001b[39m(\u001b[38;5;124m\"\u001b[39m\u001b[38;5;124mStarting training from scratch\u001b[39m\u001b[38;5;124m\"\u001b[39m)\n\u001b[1;32m     49\u001b[0m \u001b[38;5;28;01mfor\u001b[39;00m epoch \u001b[38;5;129;01min\u001b[39;00m \u001b[38;5;28mrange\u001b[39m(\u001b[38;5;241m10\u001b[39m):\n\u001b[0;32m---> 50\u001b[0m     loss \u001b[38;5;241m=\u001b[39m \u001b[43mtrain\u001b[49m\u001b[43m(\u001b[49m\u001b[43mmodel\u001b[49m\u001b[43m,\u001b[49m\u001b[43m \u001b[49m\u001b[43mtrain_loader\u001b[49m\u001b[43m,\u001b[49m\u001b[43m \u001b[49m\u001b[43moptimizer\u001b[49m\u001b[43m,\u001b[49m\u001b[43m \u001b[49m\u001b[43mcriterion\u001b[49m\u001b[43m,\u001b[49m\u001b[43m \u001b[49m\u001b[43mdevice\u001b[49m\u001b[43m)\u001b[49m\n\u001b[1;32m     51\u001b[0m     \u001b[38;5;28mprint\u001b[39m(\u001b[38;5;124mf\u001b[39m\u001b[38;5;124m\"\u001b[39m\u001b[38;5;124mEpoch \u001b[39m\u001b[38;5;132;01m{\u001b[39;00mstart_epoch\u001b[38;5;241m+\u001b[39mepoch\u001b[38;5;132;01m}\u001b[39;00m\u001b[38;5;124m, Loss: \u001b[39m\u001b[38;5;132;01m{\u001b[39;00mloss\u001b[38;5;132;01m:\u001b[39;00m\u001b[38;5;124m.4f\u001b[39m\u001b[38;5;132;01m}\u001b[39;00m\u001b[38;5;124m\"\u001b[39m)\n\u001b[1;32m     53\u001b[0m     \u001b[38;5;66;03m# Save loss to CSV\u001b[39;00m\n",
      "Cell \u001b[0;32mIn[1], line 172\u001b[0m, in \u001b[0;36mtrain\u001b[0;34m(model, dataloader, optimizer, criterion, device)\u001b[0m\n\u001b[1;32m    170\u001b[0m model\u001b[38;5;241m.\u001b[39mtrain()\n\u001b[1;32m    171\u001b[0m total_loss \u001b[38;5;241m=\u001b[39m \u001b[38;5;241m0\u001b[39m\n\u001b[0;32m--> 172\u001b[0m \u001b[38;5;28;01mfor\u001b[39;00m X, y \u001b[38;5;129;01min\u001b[39;00m dataloader:\n\u001b[1;32m    173\u001b[0m     X, y \u001b[38;5;241m=\u001b[39m X\u001b[38;5;241m.\u001b[39mto(device), y\u001b[38;5;241m.\u001b[39mto(device)\n\u001b[1;32m    174\u001b[0m     optimizer\u001b[38;5;241m.\u001b[39mzero_grad()\n",
      "File \u001b[0;32m/usr/local/lib/python3.10/dist-packages/torch/utils/data/dataloader.py:733\u001b[0m, in \u001b[0;36m_BaseDataLoaderIter.__next__\u001b[0;34m(self)\u001b[0m\n\u001b[1;32m    730\u001b[0m \u001b[38;5;28;01mif\u001b[39;00m \u001b[38;5;28mself\u001b[39m\u001b[38;5;241m.\u001b[39m_sampler_iter \u001b[38;5;129;01mis\u001b[39;00m \u001b[38;5;28;01mNone\u001b[39;00m:\n\u001b[1;32m    731\u001b[0m     \u001b[38;5;66;03m# TODO(https://github.com/pytorch/pytorch/issues/76750)\u001b[39;00m\n\u001b[1;32m    732\u001b[0m     \u001b[38;5;28mself\u001b[39m\u001b[38;5;241m.\u001b[39m_reset()  \u001b[38;5;66;03m# type: ignore[call-arg]\u001b[39;00m\n\u001b[0;32m--> 733\u001b[0m data \u001b[38;5;241m=\u001b[39m \u001b[38;5;28;43mself\u001b[39;49m\u001b[38;5;241;43m.\u001b[39;49m\u001b[43m_next_data\u001b[49m\u001b[43m(\u001b[49m\u001b[43m)\u001b[49m\n\u001b[1;32m    734\u001b[0m \u001b[38;5;28mself\u001b[39m\u001b[38;5;241m.\u001b[39m_num_yielded \u001b[38;5;241m+\u001b[39m\u001b[38;5;241m=\u001b[39m \u001b[38;5;241m1\u001b[39m\n\u001b[1;32m    735\u001b[0m \u001b[38;5;28;01mif\u001b[39;00m (\n\u001b[1;32m    736\u001b[0m     \u001b[38;5;28mself\u001b[39m\u001b[38;5;241m.\u001b[39m_dataset_kind \u001b[38;5;241m==\u001b[39m _DatasetKind\u001b[38;5;241m.\u001b[39mIterable\n\u001b[1;32m    737\u001b[0m     \u001b[38;5;129;01mand\u001b[39;00m \u001b[38;5;28mself\u001b[39m\u001b[38;5;241m.\u001b[39m_IterableDataset_len_called \u001b[38;5;129;01mis\u001b[39;00m \u001b[38;5;129;01mnot\u001b[39;00m \u001b[38;5;28;01mNone\u001b[39;00m\n\u001b[1;32m    738\u001b[0m     \u001b[38;5;129;01mand\u001b[39;00m \u001b[38;5;28mself\u001b[39m\u001b[38;5;241m.\u001b[39m_num_yielded \u001b[38;5;241m>\u001b[39m \u001b[38;5;28mself\u001b[39m\u001b[38;5;241m.\u001b[39m_IterableDataset_len_called\n\u001b[1;32m    739\u001b[0m ):\n",
      "File \u001b[0;32m/usr/local/lib/python3.10/dist-packages/torch/utils/data/dataloader.py:789\u001b[0m, in \u001b[0;36m_SingleProcessDataLoaderIter._next_data\u001b[0;34m(self)\u001b[0m\n\u001b[1;32m    787\u001b[0m \u001b[38;5;28;01mdef\u001b[39;00m\u001b[38;5;250m \u001b[39m\u001b[38;5;21m_next_data\u001b[39m(\u001b[38;5;28mself\u001b[39m):\n\u001b[1;32m    788\u001b[0m     index \u001b[38;5;241m=\u001b[39m \u001b[38;5;28mself\u001b[39m\u001b[38;5;241m.\u001b[39m_next_index()  \u001b[38;5;66;03m# may raise StopIteration\u001b[39;00m\n\u001b[0;32m--> 789\u001b[0m     data \u001b[38;5;241m=\u001b[39m \u001b[38;5;28;43mself\u001b[39;49m\u001b[38;5;241;43m.\u001b[39;49m\u001b[43m_dataset_fetcher\u001b[49m\u001b[38;5;241;43m.\u001b[39;49m\u001b[43mfetch\u001b[49m\u001b[43m(\u001b[49m\u001b[43mindex\u001b[49m\u001b[43m)\u001b[49m  \u001b[38;5;66;03m# may raise StopIteration\u001b[39;00m\n\u001b[1;32m    790\u001b[0m     \u001b[38;5;28;01mif\u001b[39;00m \u001b[38;5;28mself\u001b[39m\u001b[38;5;241m.\u001b[39m_pin_memory:\n\u001b[1;32m    791\u001b[0m         data \u001b[38;5;241m=\u001b[39m _utils\u001b[38;5;241m.\u001b[39mpin_memory\u001b[38;5;241m.\u001b[39mpin_memory(data, \u001b[38;5;28mself\u001b[39m\u001b[38;5;241m.\u001b[39m_pin_memory_device)\n",
      "File \u001b[0;32m/usr/local/lib/python3.10/dist-packages/torch/utils/data/_utils/fetch.py:50\u001b[0m, in \u001b[0;36m_MapDatasetFetcher.fetch\u001b[0;34m(self, possibly_batched_index)\u001b[0m\n\u001b[1;32m     48\u001b[0m \u001b[38;5;28;01mif\u001b[39;00m \u001b[38;5;28mself\u001b[39m\u001b[38;5;241m.\u001b[39mauto_collation:\n\u001b[1;32m     49\u001b[0m     \u001b[38;5;28;01mif\u001b[39;00m \u001b[38;5;28mhasattr\u001b[39m(\u001b[38;5;28mself\u001b[39m\u001b[38;5;241m.\u001b[39mdataset, \u001b[38;5;124m\"\u001b[39m\u001b[38;5;124m__getitems__\u001b[39m\u001b[38;5;124m\"\u001b[39m) \u001b[38;5;129;01mand\u001b[39;00m \u001b[38;5;28mself\u001b[39m\u001b[38;5;241m.\u001b[39mdataset\u001b[38;5;241m.\u001b[39m__getitems__:\n\u001b[0;32m---> 50\u001b[0m         data \u001b[38;5;241m=\u001b[39m \u001b[38;5;28;43mself\u001b[39;49m\u001b[38;5;241;43m.\u001b[39;49m\u001b[43mdataset\u001b[49m\u001b[38;5;241;43m.\u001b[39;49m\u001b[43m__getitems__\u001b[49m\u001b[43m(\u001b[49m\u001b[43mpossibly_batched_index\u001b[49m\u001b[43m)\u001b[49m\n\u001b[1;32m     51\u001b[0m     \u001b[38;5;28;01melse\u001b[39;00m:\n\u001b[1;32m     52\u001b[0m         data \u001b[38;5;241m=\u001b[39m [\u001b[38;5;28mself\u001b[39m\u001b[38;5;241m.\u001b[39mdataset[idx] \u001b[38;5;28;01mfor\u001b[39;00m idx \u001b[38;5;129;01min\u001b[39;00m possibly_batched_index]\n",
      "File \u001b[0;32m/usr/local/lib/python3.10/dist-packages/torch/utils/data/dataset.py:416\u001b[0m, in \u001b[0;36mSubset.__getitems__\u001b[0;34m(self, indices)\u001b[0m\n\u001b[1;32m    414\u001b[0m     \u001b[38;5;28;01mreturn\u001b[39;00m \u001b[38;5;28mself\u001b[39m\u001b[38;5;241m.\u001b[39mdataset\u001b[38;5;241m.\u001b[39m__getitems__([\u001b[38;5;28mself\u001b[39m\u001b[38;5;241m.\u001b[39mindices[idx] \u001b[38;5;28;01mfor\u001b[39;00m idx \u001b[38;5;129;01min\u001b[39;00m indices])  \u001b[38;5;66;03m# type: ignore[attr-defined]\u001b[39;00m\n\u001b[1;32m    415\u001b[0m \u001b[38;5;28;01melse\u001b[39;00m:\n\u001b[0;32m--> 416\u001b[0m     \u001b[38;5;28;01mreturn\u001b[39;00m [\u001b[38;5;28mself\u001b[39m\u001b[38;5;241m.\u001b[39mdataset[\u001b[38;5;28mself\u001b[39m\u001b[38;5;241m.\u001b[39mindices[idx]] \u001b[38;5;28;01mfor\u001b[39;00m idx \u001b[38;5;129;01min\u001b[39;00m indices]\n",
      "File \u001b[0;32m/usr/local/lib/python3.10/dist-packages/torch/utils/data/dataset.py:416\u001b[0m, in \u001b[0;36m<listcomp>\u001b[0;34m(.0)\u001b[0m\n\u001b[1;32m    414\u001b[0m     \u001b[38;5;28;01mreturn\u001b[39;00m \u001b[38;5;28mself\u001b[39m\u001b[38;5;241m.\u001b[39mdataset\u001b[38;5;241m.\u001b[39m__getitems__([\u001b[38;5;28mself\u001b[39m\u001b[38;5;241m.\u001b[39mindices[idx] \u001b[38;5;28;01mfor\u001b[39;00m idx \u001b[38;5;129;01min\u001b[39;00m indices])  \u001b[38;5;66;03m# type: ignore[attr-defined]\u001b[39;00m\n\u001b[1;32m    415\u001b[0m \u001b[38;5;28;01melse\u001b[39;00m:\n\u001b[0;32m--> 416\u001b[0m     \u001b[38;5;28;01mreturn\u001b[39;00m [\u001b[38;5;28;43mself\u001b[39;49m\u001b[38;5;241;43m.\u001b[39;49m\u001b[43mdataset\u001b[49m\u001b[43m[\u001b[49m\u001b[38;5;28;43mself\u001b[39;49m\u001b[38;5;241;43m.\u001b[39;49m\u001b[43mindices\u001b[49m\u001b[43m[\u001b[49m\u001b[43midx\u001b[49m\u001b[43m]\u001b[49m\u001b[43m]\u001b[49m \u001b[38;5;28;01mfor\u001b[39;00m idx \u001b[38;5;129;01min\u001b[39;00m indices]\n",
      "Cell \u001b[0;32mIn[1], line 45\u001b[0m, in \u001b[0;36mStepwiseDeepVODataset.__getitem__\u001b[0;34m(self, idx)\u001b[0m\n\u001b[1;32m     42\u001b[0m \u001b[38;5;28;01mif\u001b[39;00m img1 \u001b[38;5;129;01mis\u001b[39;00m \u001b[38;5;28;01mNone\u001b[39;00m \u001b[38;5;129;01mor\u001b[39;00m img2 \u001b[38;5;129;01mis\u001b[39;00m \u001b[38;5;28;01mNone\u001b[39;00m:\n\u001b[1;32m     43\u001b[0m     \u001b[38;5;28;01mraise\u001b[39;00m \u001b[38;5;167;01mValueError\u001b[39;00m(\u001b[38;5;124mf\u001b[39m\u001b[38;5;124m\"\u001b[39m\u001b[38;5;124mImage read failed at index \u001b[39m\u001b[38;5;132;01m{\u001b[39;00midx\u001b[38;5;250m \u001b[39m\u001b[38;5;241m+\u001b[39m\u001b[38;5;250m \u001b[39mi\u001b[38;5;132;01m}\u001b[39;00m\u001b[38;5;124m: \u001b[39m\u001b[38;5;132;01m{\u001b[39;00mitem[\u001b[38;5;124m'\u001b[39m\u001b[38;5;124mimg1\u001b[39m\u001b[38;5;124m'\u001b[39m]\u001b[38;5;241m.\u001b[39mitem()\u001b[38;5;132;01m}\u001b[39;00m\u001b[38;5;124m or \u001b[39m\u001b[38;5;132;01m{\u001b[39;00mitem[\u001b[38;5;124m'\u001b[39m\u001b[38;5;124mimg2\u001b[39m\u001b[38;5;124m'\u001b[39m]\u001b[38;5;241m.\u001b[39mitem()\u001b[38;5;132;01m}\u001b[39;00m\u001b[38;5;124m\"\u001b[39m)\n\u001b[0;32m---> 45\u001b[0m img1 \u001b[38;5;241m=\u001b[39m \u001b[38;5;28;43mself\u001b[39;49m\u001b[38;5;241;43m.\u001b[39;49m\u001b[43mtransform\u001b[49m\u001b[43m(\u001b[49m\u001b[43mimg1\u001b[49m\u001b[43m)\u001b[49m\n\u001b[1;32m     46\u001b[0m img2 \u001b[38;5;241m=\u001b[39m \u001b[38;5;28mself\u001b[39m\u001b[38;5;241m.\u001b[39mtransform(img2)\n\u001b[1;32m     48\u001b[0m pair \u001b[38;5;241m=\u001b[39m torch\u001b[38;5;241m.\u001b[39mcat([img1, img2], dim\u001b[38;5;241m=\u001b[39m\u001b[38;5;241m0\u001b[39m)\n",
      "File \u001b[0;32m/usr/local/lib/python3.10/dist-packages/torchvision/transforms/transforms.py:95\u001b[0m, in \u001b[0;36mCompose.__call__\u001b[0;34m(self, img)\u001b[0m\n\u001b[1;32m     93\u001b[0m \u001b[38;5;28;01mdef\u001b[39;00m\u001b[38;5;250m \u001b[39m\u001b[38;5;21m__call__\u001b[39m(\u001b[38;5;28mself\u001b[39m, img):\n\u001b[1;32m     94\u001b[0m     \u001b[38;5;28;01mfor\u001b[39;00m t \u001b[38;5;129;01min\u001b[39;00m \u001b[38;5;28mself\u001b[39m\u001b[38;5;241m.\u001b[39mtransforms:\n\u001b[0;32m---> 95\u001b[0m         img \u001b[38;5;241m=\u001b[39m \u001b[43mt\u001b[49m\u001b[43m(\u001b[49m\u001b[43mimg\u001b[49m\u001b[43m)\u001b[49m\n\u001b[1;32m     96\u001b[0m     \u001b[38;5;28;01mreturn\u001b[39;00m img\n",
      "File \u001b[0;32m/usr/local/lib/python3.10/dist-packages/torchvision/transforms/transforms.py:137\u001b[0m, in \u001b[0;36mToTensor.__call__\u001b[0;34m(self, pic)\u001b[0m\n\u001b[1;32m    129\u001b[0m \u001b[38;5;28;01mdef\u001b[39;00m\u001b[38;5;250m \u001b[39m\u001b[38;5;21m__call__\u001b[39m(\u001b[38;5;28mself\u001b[39m, pic):\n\u001b[1;32m    130\u001b[0m \u001b[38;5;250m    \u001b[39m\u001b[38;5;124;03m\"\"\"\u001b[39;00m\n\u001b[1;32m    131\u001b[0m \u001b[38;5;124;03m    Args:\u001b[39;00m\n\u001b[1;32m    132\u001b[0m \u001b[38;5;124;03m        pic (PIL Image or numpy.ndarray): Image to be converted to tensor.\u001b[39;00m\n\u001b[0;32m   (...)\u001b[0m\n\u001b[1;32m    135\u001b[0m \u001b[38;5;124;03m        Tensor: Converted image.\u001b[39;00m\n\u001b[1;32m    136\u001b[0m \u001b[38;5;124;03m    \"\"\"\u001b[39;00m\n\u001b[0;32m--> 137\u001b[0m     \u001b[38;5;28;01mreturn\u001b[39;00m \u001b[43mF\u001b[49m\u001b[38;5;241;43m.\u001b[39;49m\u001b[43mto_tensor\u001b[49m\u001b[43m(\u001b[49m\u001b[43mpic\u001b[49m\u001b[43m)\u001b[49m\n",
      "File \u001b[0;32m/usr/local/lib/python3.10/dist-packages/torchvision/transforms/functional.py:176\u001b[0m, in \u001b[0;36mto_tensor\u001b[0;34m(pic)\u001b[0m\n\u001b[1;32m    174\u001b[0m img \u001b[38;5;241m=\u001b[39m img\u001b[38;5;241m.\u001b[39mpermute((\u001b[38;5;241m2\u001b[39m, \u001b[38;5;241m0\u001b[39m, \u001b[38;5;241m1\u001b[39m))\u001b[38;5;241m.\u001b[39mcontiguous()\n\u001b[1;32m    175\u001b[0m \u001b[38;5;28;01mif\u001b[39;00m \u001b[38;5;28misinstance\u001b[39m(img, torch\u001b[38;5;241m.\u001b[39mByteTensor):\n\u001b[0;32m--> 176\u001b[0m     \u001b[38;5;28;01mreturn\u001b[39;00m \u001b[43mimg\u001b[49m\u001b[38;5;241;43m.\u001b[39;49m\u001b[43mto\u001b[49m\u001b[43m(\u001b[49m\u001b[43mdtype\u001b[49m\u001b[38;5;241;43m=\u001b[39;49m\u001b[43mdefault_float_dtype\u001b[49m\u001b[43m)\u001b[49m\u001b[38;5;241m.\u001b[39mdiv(\u001b[38;5;241m255\u001b[39m)\n\u001b[1;32m    177\u001b[0m \u001b[38;5;28;01melse\u001b[39;00m:\n\u001b[1;32m    178\u001b[0m     \u001b[38;5;28;01mreturn\u001b[39;00m img\n",
      "\u001b[0;31mKeyboardInterrupt\u001b[0m: "
     ]
    }
   ],
   "source": [
    "# -------------------------\n",
    "# Main\n",
    "# -------------------------\n",
    "import csv\n",
    "\n",
    "loss_log_path = \"checkpoints2_lstm/training_loss_mse_kitti_00_short_5seq.csv\"\n",
    "\n",
    "# Create the log file and write header if it doesn't exist\n",
    "if not os.path.exists(loss_log_path):\n",
    "    with open(loss_log_path, mode='w', newline='') as f:\n",
    "        loss_writer = csv.writer(f)\n",
    "        loss_writer.writerow([\"Epoch\", \"Loss\"])\n",
    "\n",
    "model = DeepVO().to(device)\n",
    "\n",
    "#optimizer = optim.Adam(model.parameters(), lr=1e-4)\n",
    "optimizer = optim.Adam(model.parameters(), lr=1e-4)\n",
    "\n",
    "def deepvo_loss(pred, target, alpha=1, beta=100):\n",
    "    # pred and target are (B, T, 6)\n",
    "    t_pred = pred[:, :, :3]\n",
    "    r_pred = pred[:, :, 3:]\n",
    "\n",
    "    t_gt = target[:, :, :3]\n",
    "    r_gt = target[:, :, 3:]\n",
    "\n",
    "    loss_t = F.mse_loss(t_pred, t_gt)\n",
    "    loss_r = F.mse_loss(r_pred, r_gt)\n",
    "    return loss_t * alpha + loss_r * beta\n",
    "\n",
    "criterion = nn.MSELoss()\n",
    "#criterion = lambda pred, target: deepvo_loss(pred, target) \n",
    "\n",
    "# -------------------------------\n",
    "# Load checkpoint if it exists\n",
    "# -------------------------------\n",
    "os.makedirs(\"checkpoints2_lstm\", exist_ok=True)\n",
    "ckpt_path = \"checkpoints2_lstm/deepvo_checkpoint_lstm2_kitti_00_short_5seq.pt\"\n",
    "start_epoch = 0\n",
    "if os.path.exists(ckpt_path):\n",
    "    checkpoint = torch.load(ckpt_path)\n",
    "    model.load_state_dict(checkpoint[\"model_state_dict\"])\n",
    "    optimizer.load_state_dict(checkpoint[\"optimizer_state_dict\"])\n",
    "    start_epoch = checkpoint[\"epoch\"] + 1\n",
    "    print(f\"Loaded checkpoint from epoch {start_epoch}\")\n",
    "else:\n",
    "    print(\"Starting training from scratch\")\n",
    "\n",
    "for epoch in range(10):\n",
    "    loss = train(model, train_loader, optimizer, criterion, device)\n",
    "    print(f\"Epoch {start_epoch+epoch}, Loss: {loss:.4f}\")\n",
    "    \n",
    "    # Save loss to CSV\n",
    "    with open(loss_log_path, mode='a', newline='') as f:\n",
    "        writer = csv.writer(f)\n",
    "        writer.writerow([start_epoch+epoch, loss])\n",
    "\n",
    "    torch.save({\n",
    "        \"epoch\": start_epoch+epoch,\n",
    "        \"model_state_dict\": model.state_dict(),\n",
    "        \"optimizer_state_dict\": optimizer.state_dict()\n",
    "    }, ckpt_path)\n"
   ]
  },
  {
   "cell_type": "code",
   "execution_count": null,
   "id": "7877b8e4",
   "metadata": {},
   "outputs": [
    {
     "ename": "FileNotFoundError",
     "evalue": "Model not found!",
     "output_type": "error",
     "traceback": [
      "\u001b[0;31m---------------------------------------------------------------------------\u001b[0m",
      "\u001b[0;31mFileNotFoundError\u001b[0m                         Traceback (most recent call last)",
      "Cell \u001b[0;32mIn[3], line 13\u001b[0m\n\u001b[1;32m     11\u001b[0m     \u001b[38;5;28mprint\u001b[39m(\u001b[38;5;124mf\u001b[39m\u001b[38;5;124m\"\u001b[39m\u001b[38;5;124mLoaded model from epoch \u001b[39m\u001b[38;5;132;01m{\u001b[39;00mcheckpoint[\u001b[38;5;124m'\u001b[39m\u001b[38;5;124mepoch\u001b[39m\u001b[38;5;124m'\u001b[39m]\u001b[38;5;241m+\u001b[39m\u001b[38;5;241m1\u001b[39m\u001b[38;5;132;01m}\u001b[39;00m\u001b[38;5;124m\"\u001b[39m)\n\u001b[1;32m     12\u001b[0m \u001b[38;5;28;01melse\u001b[39;00m:\n\u001b[0;32m---> 13\u001b[0m     \u001b[38;5;28;01mraise\u001b[39;00m \u001b[38;5;167;01mFileNotFoundError\u001b[39;00m(\u001b[38;5;124m\"\u001b[39m\u001b[38;5;124mModel not found!\u001b[39m\u001b[38;5;124m\"\u001b[39m)\n\u001b[1;32m     15\u001b[0m model\u001b[38;5;241m.\u001b[39meval()\n",
      "\u001b[0;31mFileNotFoundError\u001b[0m: Model not found!"
     ]
    }
   ],
   "source": [
    "\n",
    "model = DeepVO().to(device)\n",
    "\n",
    "optimizer = optim.Adam(model.parameters(), lr=1e-4)\n",
    "\n",
    "ckpt_path = \"checkpoints2_lstm/deepvo_checkpoint_lstm2_kitti_00_short_5seq.pt\"\n",
    "\n",
    "if os.path.exists(ckpt_path):\n",
    "    checkpoint = torch.load(ckpt_path, map_location=device)\n",
    "    model.load_state_dict(checkpoint[\"model_state_dict\"])\n",
    "    optimizer.load_state_dict(checkpoint[\"optimizer_state_dict\"])\n",
    "    print(f\"Loaded model from epoch {checkpoint['epoch']+1}\")\n",
    "else:\n",
    "    raise FileNotFoundError(\"Model not found!\")\n",
    "\n",
    "model.eval()"
   ]
  },
  {
   "cell_type": "code",
   "execution_count": 4,
   "id": "18e4ef94",
   "metadata": {},
   "outputs": [],
   "source": [
    "\n",
    "#test_dataset = StepwiseDeepVODataset(\"data/train/05\")\n",
    "test_dataset = StepwiseDeepVODataset(\"data/train/05_cut_500\")\n",
    "\n",
    "#test_dataset = StepwiseDeepVODataset(\"data/test/isep\")\n",
    "\n",
    "# Load only % of the data\n",
    "subset_size = int(1.0 * len(test_dataset))\n",
    "subset_indices = list(range(subset_size))\n",
    "\n",
    "test_subset = Subset(test_dataset, subset_indices)\n",
    "test_loader = DataLoader(test_subset, batch_size=1, shuffle=False)\n",
    "\n",
    "def test_old(model, dataloader, device):\n",
    "    model.eval()\n",
    "    preds = []\n",
    "    gts = []\n",
    "    with torch.no_grad():\n",
    "        for X, y in dataloader:\n",
    "            X = X.to(device)\n",
    "            pred = model(X)\n",
    "            preds.append(pred.cpu())\n",
    "            gts.append(y.cpu())\n",
    "    return torch.cat(preds), torch.cat(gts)\n",
    "\n",
    "def test(model, dataloader, device):\n",
    "    model.eval()\n",
    "    preds = []\n",
    "    gts = []\n",
    "    with torch.no_grad():\n",
    "        for X, y in dataloader:  # get both input and ground truth poses\n",
    "            X = X.to(device)\n",
    "            pred = model(X)  # (B, T, 6)\n",
    "            preds.append(pred[:, -1, :].cpu())  # only last predicted pose per sequence\n",
    "            gts.append(y[:, -1, :].cpu())       # only last ground truth pose per sequence\n",
    "    preds = torch.cat(preds)  # (num_sequences, 6)\n",
    "    gts = torch.cat(gts)      # (num_sequences, 6)\n",
    "    return preds, gts\n",
    "\n",
    "\n",
    "pred_outputs, gt_outputs = test(model, test_loader, device)"
   ]
  },
  {
   "cell_type": "code",
   "execution_count": 5,
   "id": "b1239ef3",
   "metadata": {},
   "outputs": [
    {
     "data": {
      "application/vnd.plotly.v1+json": {
       "config": {
        "plotlyServerURL": "https://plot.ly"
       },
       "data": [
        {
         "line": {
          "color": "green"
         },
         "mode": "lines",
         "name": "Ground Truth",
         "type": "scatter3d",
         "x": {
          "bdata": "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",
          "dtype": "f8"
         },
         "y": {
          "bdata": "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",
          "dtype": "f8"
         },
         "z": {
          "bdata": "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",
          "dtype": "f8"
         }
        },
        {
         "line": {
          "color": "red"
         },
         "mode": "lines",
         "name": "Predicted",
         "type": "scatter3d",
         "x": {
          "bdata": "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",
          "dtype": "f8"
         },
         "y": {
          "bdata": "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",
          "dtype": "f8"
         },
         "z": {
          "bdata": "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",
          "dtype": "f8"
         }
        }
       ],
       "layout": {
        "legend": {
         "x": 0,
         "y": 1
        },
        "margin": {
         "b": 0,
         "l": 0,
         "r": 0,
         "t": 30
        },
        "scene": {
         "aspectmode": "data",
         "xaxis": {
          "title": {
           "text": "X (m)"
          }
         },
         "yaxis": {
          "title": {
           "text": "Y (m)"
          }
         },
         "zaxis": {
          "title": {
           "text": "Z (m)"
          }
         }
        },
        "template": {
         "data": {
          "bar": [
           {
            "error_x": {
             "color": "#2a3f5f"
            },
            "error_y": {
             "color": "#2a3f5f"
            },
            "marker": {
             "line": {
              "color": "#E5ECF6",
              "width": 0.5
             },
             "pattern": {
              "fillmode": "overlay",
              "size": 10,
              "solidity": 0.2
             }
            },
            "type": "bar"
           }
          ],
          "barpolar": [
           {
            "marker": {
             "line": {
              "color": "#E5ECF6",
              "width": 0.5
             },
             "pattern": {
              "fillmode": "overlay",
              "size": 10,
              "solidity": 0.2
             }
            },
            "type": "barpolar"
           }
          ],
          "carpet": [
           {
            "aaxis": {
             "endlinecolor": "#2a3f5f",
             "gridcolor": "white",
             "linecolor": "white",
             "minorgridcolor": "white",
             "startlinecolor": "#2a3f5f"
            },
            "baxis": {
             "endlinecolor": "#2a3f5f",
             "gridcolor": "white",
             "linecolor": "white",
             "minorgridcolor": "white",
             "startlinecolor": "#2a3f5f"
            },
            "type": "carpet"
           }
          ],
          "choropleth": [
           {
            "colorbar": {
             "outlinewidth": 0,
             "ticks": ""
            },
            "type": "choropleth"
           }
          ],
          "contour": [
           {
            "colorbar": {
             "outlinewidth": 0,
             "ticks": ""
            },
            "colorscale": [
             [
              0,
              "#0d0887"
             ],
             [
              0.1111111111111111,
              "#46039f"
             ],
             [
              0.2222222222222222,
              "#7201a8"
             ],
             [
              0.3333333333333333,
              "#9c179e"
             ],
             [
              0.4444444444444444,
              "#bd3786"
             ],
             [
              0.5555555555555556,
              "#d8576b"
             ],
             [
              0.6666666666666666,
              "#ed7953"
             ],
             [
              0.7777777777777778,
              "#fb9f3a"
             ],
             [
              0.8888888888888888,
              "#fdca26"
             ],
             [
              1,
              "#f0f921"
             ]
            ],
            "type": "contour"
           }
          ],
          "contourcarpet": [
           {
            "colorbar": {
             "outlinewidth": 0,
             "ticks": ""
            },
            "type": "contourcarpet"
           }
          ],
          "heatmap": [
           {
            "colorbar": {
             "outlinewidth": 0,
             "ticks": ""
            },
            "colorscale": [
             [
              0,
              "#0d0887"
             ],
             [
              0.1111111111111111,
              "#46039f"
             ],
             [
              0.2222222222222222,
              "#7201a8"
             ],
             [
              0.3333333333333333,
              "#9c179e"
             ],
             [
              0.4444444444444444,
              "#bd3786"
             ],
             [
              0.5555555555555556,
              "#d8576b"
             ],
             [
              0.6666666666666666,
              "#ed7953"
             ],
             [
              0.7777777777777778,
              "#fb9f3a"
             ],
             [
              0.8888888888888888,
              "#fdca26"
             ],
             [
              1,
              "#f0f921"
             ]
            ],
            "type": "heatmap"
           }
          ],
          "histogram": [
           {
            "marker": {
             "pattern": {
              "fillmode": "overlay",
              "size": 10,
              "solidity": 0.2
             }
            },
            "type": "histogram"
           }
          ],
          "histogram2d": [
           {
            "colorbar": {
             "outlinewidth": 0,
             "ticks": ""
            },
            "colorscale": [
             [
              0,
              "#0d0887"
             ],
             [
              0.1111111111111111,
              "#46039f"
             ],
             [
              0.2222222222222222,
              "#7201a8"
             ],
             [
              0.3333333333333333,
              "#9c179e"
             ],
             [
              0.4444444444444444,
              "#bd3786"
             ],
             [
              0.5555555555555556,
              "#d8576b"
             ],
             [
              0.6666666666666666,
              "#ed7953"
             ],
             [
              0.7777777777777778,
              "#fb9f3a"
             ],
             [
              0.8888888888888888,
              "#fdca26"
             ],
             [
              1,
              "#f0f921"
             ]
            ],
            "type": "histogram2d"
           }
          ],
          "histogram2dcontour": [
           {
            "colorbar": {
             "outlinewidth": 0,
             "ticks": ""
            },
            "colorscale": [
             [
              0,
              "#0d0887"
             ],
             [
              0.1111111111111111,
              "#46039f"
             ],
             [
              0.2222222222222222,
              "#7201a8"
             ],
             [
              0.3333333333333333,
              "#9c179e"
             ],
             [
              0.4444444444444444,
              "#bd3786"
             ],
             [
              0.5555555555555556,
              "#d8576b"
             ],
             [
              0.6666666666666666,
              "#ed7953"
             ],
             [
              0.7777777777777778,
              "#fb9f3a"
             ],
             [
              0.8888888888888888,
              "#fdca26"
             ],
             [
              1,
              "#f0f921"
             ]
            ],
            "type": "histogram2dcontour"
           }
          ],
          "mesh3d": [
           {
            "colorbar": {
             "outlinewidth": 0,
             "ticks": ""
            },
            "type": "mesh3d"
           }
          ],
          "parcoords": [
           {
            "line": {
             "colorbar": {
              "outlinewidth": 0,
              "ticks": ""
             }
            },
            "type": "parcoords"
           }
          ],
          "pie": [
           {
            "automargin": true,
            "type": "pie"
           }
          ],
          "scatter": [
           {
            "fillpattern": {
             "fillmode": "overlay",
             "size": 10,
             "solidity": 0.2
            },
            "type": "scatter"
           }
          ],
          "scatter3d": [
           {
            "line": {
             "colorbar": {
              "outlinewidth": 0,
              "ticks": ""
             }
            },
            "marker": {
             "colorbar": {
              "outlinewidth": 0,
              "ticks": ""
             }
            },
            "type": "scatter3d"
           }
          ],
          "scattercarpet": [
           {
            "marker": {
             "colorbar": {
              "outlinewidth": 0,
              "ticks": ""
             }
            },
            "type": "scattercarpet"
           }
          ],
          "scattergeo": [
           {
            "marker": {
             "colorbar": {
              "outlinewidth": 0,
              "ticks": ""
             }
            },
            "type": "scattergeo"
           }
          ],
          "scattergl": [
           {
            "marker": {
             "colorbar": {
              "outlinewidth": 0,
              "ticks": ""
             }
            },
            "type": "scattergl"
           }
          ],
          "scattermap": [
           {
            "marker": {
             "colorbar": {
              "outlinewidth": 0,
              "ticks": ""
             }
            },
            "type": "scattermap"
           }
          ],
          "scattermapbox": [
           {
            "marker": {
             "colorbar": {
              "outlinewidth": 0,
              "ticks": ""
             }
            },
            "type": "scattermapbox"
           }
          ],
          "scatterpolar": [
           {
            "marker": {
             "colorbar": {
              "outlinewidth": 0,
              "ticks": ""
             }
            },
            "type": "scatterpolar"
           }
          ],
          "scatterpolargl": [
           {
            "marker": {
             "colorbar": {
              "outlinewidth": 0,
              "ticks": ""
             }
            },
            "type": "scatterpolargl"
           }
          ],
          "scatterternary": [
           {
            "marker": {
             "colorbar": {
              "outlinewidth": 0,
              "ticks": ""
             }
            },
            "type": "scatterternary"
           }
          ],
          "surface": [
           {
            "colorbar": {
             "outlinewidth": 0,
             "ticks": ""
            },
            "colorscale": [
             [
              0,
              "#0d0887"
             ],
             [
              0.1111111111111111,
              "#46039f"
             ],
             [
              0.2222222222222222,
              "#7201a8"
             ],
             [
              0.3333333333333333,
              "#9c179e"
             ],
             [
              0.4444444444444444,
              "#bd3786"
             ],
             [
              0.5555555555555556,
              "#d8576b"
             ],
             [
              0.6666666666666666,
              "#ed7953"
             ],
             [
              0.7777777777777778,
              "#fb9f3a"
             ],
             [
              0.8888888888888888,
              "#fdca26"
             ],
             [
              1,
              "#f0f921"
             ]
            ],
            "type": "surface"
           }
          ],
          "table": [
           {
            "cells": {
             "fill": {
              "color": "#EBF0F8"
             },
             "line": {
              "color": "white"
             }
            },
            "header": {
             "fill": {
              "color": "#C8D4E3"
             },
             "line": {
              "color": "white"
             }
            },
            "type": "table"
           }
          ]
         },
         "layout": {
          "annotationdefaults": {
           "arrowcolor": "#2a3f5f",
           "arrowhead": 0,
           "arrowwidth": 1
          },
          "autotypenumbers": "strict",
          "coloraxis": {
           "colorbar": {
            "outlinewidth": 0,
            "ticks": ""
           }
          },
          "colorscale": {
           "diverging": [
            [
             0,
             "#8e0152"
            ],
            [
             0.1,
             "#c51b7d"
            ],
            [
             0.2,
             "#de77ae"
            ],
            [
             0.3,
             "#f1b6da"
            ],
            [
             0.4,
             "#fde0ef"
            ],
            [
             0.5,
             "#f7f7f7"
            ],
            [
             0.6,
             "#e6f5d0"
            ],
            [
             0.7,
             "#b8e186"
            ],
            [
             0.8,
             "#7fbc41"
            ],
            [
             0.9,
             "#4d9221"
            ],
            [
             1,
             "#276419"
            ]
           ],
           "sequential": [
            [
             0,
             "#0d0887"
            ],
            [
             0.1111111111111111,
             "#46039f"
            ],
            [
             0.2222222222222222,
             "#7201a8"
            ],
            [
             0.3333333333333333,
             "#9c179e"
            ],
            [
             0.4444444444444444,
             "#bd3786"
            ],
            [
             0.5555555555555556,
             "#d8576b"
            ],
            [
             0.6666666666666666,
             "#ed7953"
            ],
            [
             0.7777777777777778,
             "#fb9f3a"
            ],
            [
             0.8888888888888888,
             "#fdca26"
            ],
            [
             1,
             "#f0f921"
            ]
           ],
           "sequentialminus": [
            [
             0,
             "#0d0887"
            ],
            [
             0.1111111111111111,
             "#46039f"
            ],
            [
             0.2222222222222222,
             "#7201a8"
            ],
            [
             0.3333333333333333,
             "#9c179e"
            ],
            [
             0.4444444444444444,
             "#bd3786"
            ],
            [
             0.5555555555555556,
             "#d8576b"
            ],
            [
             0.6666666666666666,
             "#ed7953"
            ],
            [
             0.7777777777777778,
             "#fb9f3a"
            ],
            [
             0.8888888888888888,
             "#fdca26"
            ],
            [
             1,
             "#f0f921"
            ]
           ]
          },
          "colorway": [
           "#636efa",
           "#EF553B",
           "#00cc96",
           "#ab63fa",
           "#FFA15A",
           "#19d3f3",
           "#FF6692",
           "#B6E880",
           "#FF97FF",
           "#FECB52"
          ],
          "font": {
           "color": "#2a3f5f"
          },
          "geo": {
           "bgcolor": "white",
           "lakecolor": "white",
           "landcolor": "#E5ECF6",
           "showlakes": true,
           "showland": true,
           "subunitcolor": "white"
          },
          "hoverlabel": {
           "align": "left"
          },
          "hovermode": "closest",
          "mapbox": {
           "style": "light"
          },
          "paper_bgcolor": "white",
          "plot_bgcolor": "#E5ECF6",
          "polar": {
           "angularaxis": {
            "gridcolor": "white",
            "linecolor": "white",
            "ticks": ""
           },
           "bgcolor": "#E5ECF6",
           "radialaxis": {
            "gridcolor": "white",
            "linecolor": "white",
            "ticks": ""
           }
          },
          "scene": {
           "xaxis": {
            "backgroundcolor": "#E5ECF6",
            "gridcolor": "white",
            "gridwidth": 2,
            "linecolor": "white",
            "showbackground": true,
            "ticks": "",
            "zerolinecolor": "white"
           },
           "yaxis": {
            "backgroundcolor": "#E5ECF6",
            "gridcolor": "white",
            "gridwidth": 2,
            "linecolor": "white",
            "showbackground": true,
            "ticks": "",
            "zerolinecolor": "white"
           },
           "zaxis": {
            "backgroundcolor": "#E5ECF6",
            "gridcolor": "white",
            "gridwidth": 2,
            "linecolor": "white",
            "showbackground": true,
            "ticks": "",
            "zerolinecolor": "white"
           }
          },
          "shapedefaults": {
           "line": {
            "color": "#2a3f5f"
           }
          },
          "ternary": {
           "aaxis": {
            "gridcolor": "white",
            "linecolor": "white",
            "ticks": ""
           },
           "baxis": {
            "gridcolor": "white",
            "linecolor": "white",
            "ticks": ""
           },
           "bgcolor": "#E5ECF6",
           "caxis": {
            "gridcolor": "white",
            "linecolor": "white",
            "ticks": ""
           }
          },
          "title": {
           "x": 0.05
          },
          "xaxis": {
           "automargin": true,
           "gridcolor": "white",
           "linecolor": "white",
           "ticks": "",
           "title": {
            "standoff": 15
           },
           "zerolinecolor": "white",
           "zerolinewidth": 2
          },
          "yaxis": {
           "automargin": true,
           "gridcolor": "white",
           "linecolor": "white",
           "ticks": "",
           "title": {
            "standoff": 15
           },
           "zerolinecolor": "white",
           "zerolinewidth": 2
          }
         }
        },
        "title": {
         "text": "Trajectory"
        }
       }
      }
     },
     "metadata": {},
     "output_type": "display_data"
    }
   ],
   "source": [
    "import plotly.graph_objs as go\n",
    "\n",
    "\n",
    "# -------------------------\n",
    "# Integrate and Plot\n",
    "# -------------------------\n",
    "def integrate_poses(y_output, start_pos=np.zeros(3), start_rot=R.identity()):\n",
    "    positions = [start_pos.copy()]\n",
    "    curr_rot = start_rot\n",
    "    curr_pos = start_pos.copy()\n",
    "    for i in range(y_output.shape[0]):\n",
    "        dpos = y_output[i, :3]\n",
    "        drot = y_output[i, 3:]\n",
    "        global_dpos = curr_rot.apply(dpos)\n",
    "        curr_pos += global_dpos\n",
    "        dR = R.from_rotvec(drot)\n",
    "        curr_rot = curr_rot * dR\n",
    "        positions.append(curr_pos.copy())\n",
    "    return np.array(positions)\n",
    "\n",
    "\n",
    "\n",
    "def plot_pred_vs_gt(pred_positions, gt_positions):\n",
    "    trace_gt = go.Scatter3d(\n",
    "        x=gt_positions[:, 0],\n",
    "        y=gt_positions[:, 1],\n",
    "        z=gt_positions[:, 2],\n",
    "        mode='lines',\n",
    "        name='Ground Truth',\n",
    "        line=dict(color='green')\n",
    "    )\n",
    "    \n",
    "    trace_pred = go.Scatter3d(\n",
    "        x=pred_positions[:, 0],\n",
    "        y=pred_positions[:, 1],\n",
    "        z=pred_positions[:, 2],\n",
    "        mode='lines',\n",
    "        name='Predicted',\n",
    "        line=dict(color='red')\n",
    "    )\n",
    "    \n",
    "    layout = go.Layout(\n",
    "        scene=dict(\n",
    "            xaxis_title='X',\n",
    "            yaxis_title='Y',\n",
    "            zaxis_title='Z'\n",
    "        ),\n",
    "        legend=dict(x=0, y=1),\n",
    "        margin=dict(l=0, r=0, b=0, t=0)\n",
    "    )\n",
    "    \n",
    "    fig = go.Figure(data=[trace_gt, trace_pred], layout=layout)\n",
    "        \n",
    "    fig.update_layout(\n",
    "        title=f'Trajectory',\n",
    "        scene=dict(\n",
    "            xaxis_title='X (m)',\n",
    "            yaxis_title='Y (m)',\n",
    "            zaxis_title='Z (m)',\n",
    "            aspectmode='data'\n",
    "        ),\n",
    "        margin=dict(l=0, r=0, b=0, t=30)\n",
    "    )\n",
    "\n",
    "    fig.show()\n",
    "\n",
    "\n",
    "\n",
    "# flatten batch and sequence dims to (T, 6)\n",
    "#pred_outputs = pred_outputs.view(-1, 6).cpu().numpy()\n",
    "#gt_outputs = gt_outputs.view(-1, 6).cpu().numpy()\n",
    "\n",
    "gt_positions = integrate_poses(gt_outputs)\n",
    "pred_positions = integrate_poses(pred_outputs, start_pos=gt_positions[0])\n",
    "\n",
    "plot_pred_vs_gt(pred_positions, gt_positions)"
   ]
  },
  {
   "cell_type": "code",
   "execution_count": 5,
   "id": "5cf60b1b",
   "metadata": {},
   "outputs": [
    {
     "data": {
      "application/vnd.plotly.v1+json": {
       "config": {
        "plotlyServerURL": "https://plot.ly"
       },
       "data": [
        {
         "line": {
          "color": "red",
          "width": 2
         },
         "marker": {
          "color": "red",
          "size": 4
         },
         "mode": "lines+markers",
         "type": "scatter3d",
         "x": {
          "bdata": "ZRniWBfnbUDHKTqSy7NtQK+UZYhjeW1ALGUZ4lghbUAr9pfdk9dsQKOSOgFNiGxAbAn5oGcVbECvlGWIY7lrQGq8dJMYWGtAPujZrPrQakBpAG+BBGlqQO/Jw0Kt/2lAXkvIBz1xaUBPHhZqTQVpQAXFjzF3mWhAfGEyVTAKaECoV8oyxJ9nQGx4eqUsE2dA845TdCSrZkALRiV1AkRmQK7YX3ZPvGVA4JwRpb1XZUAUrkfhevRkQMuhRbbzc2RA5x2n6EgYZEAukKD4McJjQArXo3A9WGNAN4lBYOUOY0B3vp8aL8tiQPAWSFD8fGJAKjqSy39MYkD9h/Tb1xViQBB6Nqs+92FAOpLLf0jhYUDKw0KtadBhQGfV52orymFAFYxK6gTGYUB4CyQofsRhQB1aZDvfw2FAqz5XW7HDYUCBJsKGp8VhQGb35GGhyGFADi2yne/LYUBxPQrXo9JhQD2bVZ+r12FAsVBrmnfeYUCdEaW9weNhQEi/fR046WFAxyk6ksvxYUBIUPwYc/dhQLUV+8vu/WFAj8L1KFwHYkAdOGdEaQ1iQHS1FfvLEmJAuY0G8BYaYkBtxf6yeyBiQEw3iUFgJ2JAMnctIR8wYkDf4AuTqTZiQG+BBMWPPWJASFD8GHNHYkCwcmiR7U5iQBkEVg4tWGJAMCqpE9BeYkAoDwu1pmViQJ2AJsKGbWJAcT0K16NyYkAUrkfhenhiQO0NvjCZgGJAPL1SliGGYkCamZmZmYtiQMxdS8gHk2JANV66SQyYYkBpAG+BBJ1iQMRCrWneo2JA8rBQa5qpYkA730+Nl7BiQCDSb18HtmJAUWuad5y6YkDl0CLb+bxiQMzuycNCuWJAZohjXdywYkBUdCSX/5xiQE5iEFg5iGJAFD/G3LVsYkBZF7fRAD5iQJm7lpAPEmJAf9k9eVjgYUAldQKaCJdhQIGVQ4tsWWFANKK0N/j+YEAdWmQ737NgQO58PzVeZGBAat5xio7gX0AHzhlR2idfQNEi2/l+al5A/mX35GFpXUBbsb/snqhcQA5Pr5Rl6FtA0SLb+X7uWkBfmEwVjDJaQDcawFsgeVlA/wkuVtSEWED5Tsx6MdBXQBqGj4gpH1dAaR1VTRBDVkCIhVrTvK1VQNRlMbH5AFVAGyrG+ZuUVED8HYoCfTZUQOcAwRw9wFNA5x2n6EhqU0BA9nr3xxdTQIbJVMGosFJAJt9sc2NoUkA2qz5XWyVSQN4CCYof21FA6dSVz/KwUUDlfoeiQI9RQMBbIEHxcVFAV89J7xtnUUCKsOHplV5RQM9J7xtfWVFA4gFlU65SUUAqkUQvoz5RQH/7OnDOJFFAwaikTkD/UEC62or9ZbNQQDuqmiDqbFBAppvEILAcUECskPKTaktPQE0tW+uLiE5APQ/uztq9TUD7V1aalJZMQBTQRNjwoEtALjnulA42SkAsK01KQQtJQNEF9S1zykdAeH+8V60ARkAO2xZlNpREQGhcOBCSEUNAfJv+7Ef2QEC+TX/2I60+QOP8TShEcDtAUBn/PuMiN0D4GRcOhOwzQOhNRSqMxTBAXhH8byVLKUBBuAIK9WQjQIv+0MyTCxhA",
          "dtype": "f8"
         },
         "y": {
          "bdata": "CI82jlhbNcB+b9Of/Tg1wBO4dTdPFTXAzH9Iv33lNMBhMlUwKsE0wJfFxObjmjTAd4TTghdlNMBlcJS8Oj80wPwYc9cSIjTAzVg0nZ38M8Ap6PaSxuAzwPLNNjemxzPAmWTkLOypM8AGgZVDi5QzwEjcY+lDfzPAXBsqxvlbM8BIFjCBWz8zwMHKoUW2EzPAn47HDFT2MsCztb5IaNsywEZ8J2a9uDLAoijQJ/KcMsDo2az6XH0ywFOu8C4XWTLAVvFG5pE/MsDIQQkzbScywAiUTbnCCzLA4V0u4jv5McBdbcX+suMxwFj/5zBfxjHAB1+YTBWsMcCvd3+8V40xwNE/wcWKejHAgc8PI4RnMcAMk6mCUVExwNmUK7zLPTHAIF7XL9gtMcB6jV2iehMxwDp15bM8/zDAtHbbhebqMMD+YOC599AwwPQau0T1vjDA6spneR6sMMD68gLso4swwBqGj4gpcTDAhIHn3sNVMMBCJhk5C0MwwG2tLxLaMjDA6WUUyy0dMMDCo40j1gowwGcng6Pk5S/AQrKACdyaL8BxVdl3RWAvwO2ePCzUKi/A/tR46SbhLsBSLLe0GrIuwEuTUtDtdS7AmDRG66gaLsALRiV1AtotwIDUJk7upy3A95LGaB1lLcCDbi9pjEYtwMCy0qQUBC3A3Xu45LjTLMA3ww34/LAswFzJjo1AXCzAVMa/z7gwLMCYTBWMSvorwI/8wcBznyvALIL/rWR3K8BCJhk5C0srwDyDhv4J/irAmrFoOjvZKsB/Tdaoh7gqwMGQ1a2eoyrATTJyFvaUKsCKzce1oYIqwInS3uALcyrAqIx/n3FhKsBoke18P0UqwJF++zpwLirACp3X2CUaKsC4BrZKsPgpwKBU+3Q81inAjPhOzHqxKcDfMqfLYnIpwGuCqPsARCnAPIOG/gkOKcAai6azk9EowDJ3LSEfpCjA2XxcGypmKMAfhetRuC4owLxXrUz4BSjAOX8TChHQJ8DghEIEHJInwPpEniRdYyfA6glLPKAcJ8AhByXMtN0mwPJetTLhpybA9aEL6ltmJsBubkxPWEImwDFCeLRxFCbA/+xHisjgJcCuga0SLK4lwPoK0oxFcyXA6znpfeMrJcA/UkSGVfwkwPUQje4gxiTAhXzQs1mlJMDnxvSEJY4kwOIeSx+6cCTA2gOtwJBVJMAP1v85zDckwDBHj9/bBCTA9KYiFcbuI8CMMbCO498jwGTpQxfU7yPAWK1M+KUOJMALmMCtuykkwJqxaDo7SSTAol2FlJ9kJMCzKVd4l4skwIf58gLsoyTAgGCOHr+3JMBORSqMLdQkwB+6oL5l3iTAP8bctYSsJMCtwJDVrU4kwBrdQexMESTAARQjS+bYI8CqfToeM4gjwEZ55uWwUyPA/RadLLUeI8Dh7qzdduEiwGn8witJpiLA4rA08KNaIsCWXMXiNx0iwExw6gPJ2yHAbHak+s5/IcBHkiBcAUUhwFeUEoJVBSHA1jcwuVGUIMClETP7PEYgwCCb5Ef86h/ASaKXUSwHH8AMIHwo0XIewEhQ/Bhz5x3ACI7LuKlxHcBbIhecwR8dwAVpxqLprBzA",
          "dtype": "f8"
         },
         "z": {
          "bdata": "rWnecYqgeEBlqmBUUo94QPmgZ7Pqf3hAbqMBvAVueEC+MJkqGGN4QPrt68A5WXhA8x/Sb19OeEBEi2zn+0d4QKK0N/jCQXhAGeJYF7c5eECwcmiR7TN4QNxoAG+BLnhAtRX7y+4neEAsZRniWCN4QFJJnYAmH3hANV66SQwaeEBtVn2uthZ4QLIubqMBE3hArK3YX3YQeECz6nO1FQ54QEku/yH9CnhAwhcmUwUJeEDMXUvIBwd4QKAaL90kBXhAnDOitDcEeECb5h2n6AN4QNcS8kHPA3hAS1mGONYCeEBPr5RliAB4QHicoiO5+ndAduCcEaXyd0D8qfHSTeB3QH/7OnDOzndAtTf4wmS6d0DecYqO5Jt3QCNKe4MvgndAHHxhMlVmd0BCz2bV5z53QAn5oGezHndAsAPnjCj8dkDaG3xhMsp2QKhXyjLEoXZANjy9UpZ2dkBd/kP67Th2QLTIdr6fCHZA7MA5I0rGdUALJCh+jJN1QA5Pr5RlYHVAnDOitDccdUAVjErqBOl0QKOSOgFNtnRAuY0G8BZydEDOqs/VVj50QKYKRiV1CXRA9ihcj8LBc0BQ/Bhz14pzQGfV52orU3NA46WbxCAIc0CBlUOLbM9yQKjGSzeJlnJA2IFzRpRLckAGgZVDixNyQE3zjlN0yXFAjErqBDSScUBXW7G/7FpxQGRd3EYDEnFAETY8vVLccEAIrBxaZKZwQB6n6EguYHBAgZVDi2wscEAZBFYOLfJvQHrHKTqSb29AQKTfvg4Sb0C2hHzQs7luQCsYldQJTG5ANs07TtH/bUDmriXkg6RtQBniWBe3Z21AbHh6pSwxbUAfhetRuPBsQOoENBE2xmxAw9MrZRmebEBq3nGKjmxsQG1Wfa62SmxALNSa5h0rbEB3LSEf9AZsQIC3QILi72tAqRPQRNjea0A6kst/SM9rQCbkg57NyGtAjSjtDb7Ca0Bhw9MrZb9rQJ0Rpb3BvWtACtejcD28a0AhH/RsVrtrQBsN4C2QumtA3SQGgZW3a0AbL90kBrVrQOqVsgxxsGtA8KfGSzena0AFNBE2PKFrQLKd76fGm2tAokW28/2Ua0CamZmZmY9rQBsv3SQGi2tArrZif9mFa0CFfNCzWYFrQDarPldbe2tAaLPqc7V3a0CV1AloInZrQLivA+eMeGtAY+5aQj6Aa0AFo5I6AY1rQEymCkYlpWtAX5hMFYzAa0AHX5hMFeJrQAFNhA1PGWxACfmgZ7NIbEC3Yn/ZPXdsQNBE2PD0tmxA8IXJVMHobEAIPZtVny1tQL3jFB3JYW1AuY0G8BaWbUCQMXctIdttQCqpE9BEDG5AI0p7gy82bkAHzhlR2mVuQEhQ/Bhzg25AzF1LyAeZbkAPnDOitKtuQLmNBvAWsG5AArwFEhSxbkAr9pfdk61uQABvgQTFqW5A1sVtNIClbkBbsb/snqJuQOcdp+hIoG5A16NwPQqdbkCmm8QgsJhuQEATYcPTk25AMQisHFqMbkCAt0CC4oVuQN21hHzQf25AkKD4MeZ4bkADCYofY3JuQJtVn6utam5AS1mGONZfbkC+wRcmU1duQI0o7Q2+TG5A",
          "dtype": "f8"
         }
        }
       ],
       "layout": {
        "margin": {
         "b": 0,
         "l": 0,
         "r": 0,
         "t": 30
        },
        "scene": {
         "aspectmode": "data",
         "xaxis": {
          "title": {
           "text": "X (m)"
          }
         },
         "yaxis": {
          "title": {
           "text": "Y (m)"
          }
         },
         "zaxis": {
          "title": {
           "text": "Z (m)"
          }
         }
        },
        "template": {
         "data": {
          "bar": [
           {
            "error_x": {
             "color": "#2a3f5f"
            },
            "error_y": {
             "color": "#2a3f5f"
            },
            "marker": {
             "line": {
              "color": "#E5ECF6",
              "width": 0.5
             },
             "pattern": {
              "fillmode": "overlay",
              "size": 10,
              "solidity": 0.2
             }
            },
            "type": "bar"
           }
          ],
          "barpolar": [
           {
            "marker": {
             "line": {
              "color": "#E5ECF6",
              "width": 0.5
             },
             "pattern": {
              "fillmode": "overlay",
              "size": 10,
              "solidity": 0.2
             }
            },
            "type": "barpolar"
           }
          ],
          "carpet": [
           {
            "aaxis": {
             "endlinecolor": "#2a3f5f",
             "gridcolor": "white",
             "linecolor": "white",
             "minorgridcolor": "white",
             "startlinecolor": "#2a3f5f"
            },
            "baxis": {
             "endlinecolor": "#2a3f5f",
             "gridcolor": "white",
             "linecolor": "white",
             "minorgridcolor": "white",
             "startlinecolor": "#2a3f5f"
            },
            "type": "carpet"
           }
          ],
          "choropleth": [
           {
            "colorbar": {
             "outlinewidth": 0,
             "ticks": ""
            },
            "type": "choropleth"
           }
          ],
          "contour": [
           {
            "colorbar": {
             "outlinewidth": 0,
             "ticks": ""
            },
            "colorscale": [
             [
              0,
              "#0d0887"
             ],
             [
              0.1111111111111111,
              "#46039f"
             ],
             [
              0.2222222222222222,
              "#7201a8"
             ],
             [
              0.3333333333333333,
              "#9c179e"
             ],
             [
              0.4444444444444444,
              "#bd3786"
             ],
             [
              0.5555555555555556,
              "#d8576b"
             ],
             [
              0.6666666666666666,
              "#ed7953"
             ],
             [
              0.7777777777777778,
              "#fb9f3a"
             ],
             [
              0.8888888888888888,
              "#fdca26"
             ],
             [
              1,
              "#f0f921"
             ]
            ],
            "type": "contour"
           }
          ],
          "contourcarpet": [
           {
            "colorbar": {
             "outlinewidth": 0,
             "ticks": ""
            },
            "type": "contourcarpet"
           }
          ],
          "heatmap": [
           {
            "colorbar": {
             "outlinewidth": 0,
             "ticks": ""
            },
            "colorscale": [
             [
              0,
              "#0d0887"
             ],
             [
              0.1111111111111111,
              "#46039f"
             ],
             [
              0.2222222222222222,
              "#7201a8"
             ],
             [
              0.3333333333333333,
              "#9c179e"
             ],
             [
              0.4444444444444444,
              "#bd3786"
             ],
             [
              0.5555555555555556,
              "#d8576b"
             ],
             [
              0.6666666666666666,
              "#ed7953"
             ],
             [
              0.7777777777777778,
              "#fb9f3a"
             ],
             [
              0.8888888888888888,
              "#fdca26"
             ],
             [
              1,
              "#f0f921"
             ]
            ],
            "type": "heatmap"
           }
          ],
          "histogram": [
           {
            "marker": {
             "pattern": {
              "fillmode": "overlay",
              "size": 10,
              "solidity": 0.2
             }
            },
            "type": "histogram"
           }
          ],
          "histogram2d": [
           {
            "colorbar": {
             "outlinewidth": 0,
             "ticks": ""
            },
            "colorscale": [
             [
              0,
              "#0d0887"
             ],
             [
              0.1111111111111111,
              "#46039f"
             ],
             [
              0.2222222222222222,
              "#7201a8"
             ],
             [
              0.3333333333333333,
              "#9c179e"
             ],
             [
              0.4444444444444444,
              "#bd3786"
             ],
             [
              0.5555555555555556,
              "#d8576b"
             ],
             [
              0.6666666666666666,
              "#ed7953"
             ],
             [
              0.7777777777777778,
              "#fb9f3a"
             ],
             [
              0.8888888888888888,
              "#fdca26"
             ],
             [
              1,
              "#f0f921"
             ]
            ],
            "type": "histogram2d"
           }
          ],
          "histogram2dcontour": [
           {
            "colorbar": {
             "outlinewidth": 0,
             "ticks": ""
            },
            "colorscale": [
             [
              0,
              "#0d0887"
             ],
             [
              0.1111111111111111,
              "#46039f"
             ],
             [
              0.2222222222222222,
              "#7201a8"
             ],
             [
              0.3333333333333333,
              "#9c179e"
             ],
             [
              0.4444444444444444,
              "#bd3786"
             ],
             [
              0.5555555555555556,
              "#d8576b"
             ],
             [
              0.6666666666666666,
              "#ed7953"
             ],
             [
              0.7777777777777778,
              "#fb9f3a"
             ],
             [
              0.8888888888888888,
              "#fdca26"
             ],
             [
              1,
              "#f0f921"
             ]
            ],
            "type": "histogram2dcontour"
           }
          ],
          "mesh3d": [
           {
            "colorbar": {
             "outlinewidth": 0,
             "ticks": ""
            },
            "type": "mesh3d"
           }
          ],
          "parcoords": [
           {
            "line": {
             "colorbar": {
              "outlinewidth": 0,
              "ticks": ""
             }
            },
            "type": "parcoords"
           }
          ],
          "pie": [
           {
            "automargin": true,
            "type": "pie"
           }
          ],
          "scatter": [
           {
            "fillpattern": {
             "fillmode": "overlay",
             "size": 10,
             "solidity": 0.2
            },
            "type": "scatter"
           }
          ],
          "scatter3d": [
           {
            "line": {
             "colorbar": {
              "outlinewidth": 0,
              "ticks": ""
             }
            },
            "marker": {
             "colorbar": {
              "outlinewidth": 0,
              "ticks": ""
             }
            },
            "type": "scatter3d"
           }
          ],
          "scattercarpet": [
           {
            "marker": {
             "colorbar": {
              "outlinewidth": 0,
              "ticks": ""
             }
            },
            "type": "scattercarpet"
           }
          ],
          "scattergeo": [
           {
            "marker": {
             "colorbar": {
              "outlinewidth": 0,
              "ticks": ""
             }
            },
            "type": "scattergeo"
           }
          ],
          "scattergl": [
           {
            "marker": {
             "colorbar": {
              "outlinewidth": 0,
              "ticks": ""
             }
            },
            "type": "scattergl"
           }
          ],
          "scattermap": [
           {
            "marker": {
             "colorbar": {
              "outlinewidth": 0,
              "ticks": ""
             }
            },
            "type": "scattermap"
           }
          ],
          "scattermapbox": [
           {
            "marker": {
             "colorbar": {
              "outlinewidth": 0,
              "ticks": ""
             }
            },
            "type": "scattermapbox"
           }
          ],
          "scatterpolar": [
           {
            "marker": {
             "colorbar": {
              "outlinewidth": 0,
              "ticks": ""
             }
            },
            "type": "scatterpolar"
           }
          ],
          "scatterpolargl": [
           {
            "marker": {
             "colorbar": {
              "outlinewidth": 0,
              "ticks": ""
             }
            },
            "type": "scatterpolargl"
           }
          ],
          "scatterternary": [
           {
            "marker": {
             "colorbar": {
              "outlinewidth": 0,
              "ticks": ""
             }
            },
            "type": "scatterternary"
           }
          ],
          "surface": [
           {
            "colorbar": {
             "outlinewidth": 0,
             "ticks": ""
            },
            "colorscale": [
             [
              0,
              "#0d0887"
             ],
             [
              0.1111111111111111,
              "#46039f"
             ],
             [
              0.2222222222222222,
              "#7201a8"
             ],
             [
              0.3333333333333333,
              "#9c179e"
             ],
             [
              0.4444444444444444,
              "#bd3786"
             ],
             [
              0.5555555555555556,
              "#d8576b"
             ],
             [
              0.6666666666666666,
              "#ed7953"
             ],
             [
              0.7777777777777778,
              "#fb9f3a"
             ],
             [
              0.8888888888888888,
              "#fdca26"
             ],
             [
              1,
              "#f0f921"
             ]
            ],
            "type": "surface"
           }
          ],
          "table": [
           {
            "cells": {
             "fill": {
              "color": "#EBF0F8"
             },
             "line": {
              "color": "white"
             }
            },
            "header": {
             "fill": {
              "color": "#C8D4E3"
             },
             "line": {
              "color": "white"
             }
            },
            "type": "table"
           }
          ]
         },
         "layout": {
          "annotationdefaults": {
           "arrowcolor": "#2a3f5f",
           "arrowhead": 0,
           "arrowwidth": 1
          },
          "autotypenumbers": "strict",
          "coloraxis": {
           "colorbar": {
            "outlinewidth": 0,
            "ticks": ""
           }
          },
          "colorscale": {
           "diverging": [
            [
             0,
             "#8e0152"
            ],
            [
             0.1,
             "#c51b7d"
            ],
            [
             0.2,
             "#de77ae"
            ],
            [
             0.3,
             "#f1b6da"
            ],
            [
             0.4,
             "#fde0ef"
            ],
            [
             0.5,
             "#f7f7f7"
            ],
            [
             0.6,
             "#e6f5d0"
            ],
            [
             0.7,
             "#b8e186"
            ],
            [
             0.8,
             "#7fbc41"
            ],
            [
             0.9,
             "#4d9221"
            ],
            [
             1,
             "#276419"
            ]
           ],
           "sequential": [
            [
             0,
             "#0d0887"
            ],
            [
             0.1111111111111111,
             "#46039f"
            ],
            [
             0.2222222222222222,
             "#7201a8"
            ],
            [
             0.3333333333333333,
             "#9c179e"
            ],
            [
             0.4444444444444444,
             "#bd3786"
            ],
            [
             0.5555555555555556,
             "#d8576b"
            ],
            [
             0.6666666666666666,
             "#ed7953"
            ],
            [
             0.7777777777777778,
             "#fb9f3a"
            ],
            [
             0.8888888888888888,
             "#fdca26"
            ],
            [
             1,
             "#f0f921"
            ]
           ],
           "sequentialminus": [
            [
             0,
             "#0d0887"
            ],
            [
             0.1111111111111111,
             "#46039f"
            ],
            [
             0.2222222222222222,
             "#7201a8"
            ],
            [
             0.3333333333333333,
             "#9c179e"
            ],
            [
             0.4444444444444444,
             "#bd3786"
            ],
            [
             0.5555555555555556,
             "#d8576b"
            ],
            [
             0.6666666666666666,
             "#ed7953"
            ],
            [
             0.7777777777777778,
             "#fb9f3a"
            ],
            [
             0.8888888888888888,
             "#fdca26"
            ],
            [
             1,
             "#f0f921"
            ]
           ]
          },
          "colorway": [
           "#636efa",
           "#EF553B",
           "#00cc96",
           "#ab63fa",
           "#FFA15A",
           "#19d3f3",
           "#FF6692",
           "#B6E880",
           "#FF97FF",
           "#FECB52"
          ],
          "font": {
           "color": "#2a3f5f"
          },
          "geo": {
           "bgcolor": "white",
           "lakecolor": "white",
           "landcolor": "#E5ECF6",
           "showlakes": true,
           "showland": true,
           "subunitcolor": "white"
          },
          "hoverlabel": {
           "align": "left"
          },
          "hovermode": "closest",
          "mapbox": {
           "style": "light"
          },
          "paper_bgcolor": "white",
          "plot_bgcolor": "#E5ECF6",
          "polar": {
           "angularaxis": {
            "gridcolor": "white",
            "linecolor": "white",
            "ticks": ""
           },
           "bgcolor": "#E5ECF6",
           "radialaxis": {
            "gridcolor": "white",
            "linecolor": "white",
            "ticks": ""
           }
          },
          "scene": {
           "xaxis": {
            "backgroundcolor": "#E5ECF6",
            "gridcolor": "white",
            "gridwidth": 2,
            "linecolor": "white",
            "showbackground": true,
            "ticks": "",
            "zerolinecolor": "white"
           },
           "yaxis": {
            "backgroundcolor": "#E5ECF6",
            "gridcolor": "white",
            "gridwidth": 2,
            "linecolor": "white",
            "showbackground": true,
            "ticks": "",
            "zerolinecolor": "white"
           },
           "zaxis": {
            "backgroundcolor": "#E5ECF6",
            "gridcolor": "white",
            "gridwidth": 2,
            "linecolor": "white",
            "showbackground": true,
            "ticks": "",
            "zerolinecolor": "white"
           }
          },
          "shapedefaults": {
           "line": {
            "color": "#2a3f5f"
           }
          },
          "ternary": {
           "aaxis": {
            "gridcolor": "white",
            "linecolor": "white",
            "ticks": ""
           },
           "baxis": {
            "gridcolor": "white",
            "linecolor": "white",
            "ticks": ""
           },
           "bgcolor": "#E5ECF6",
           "caxis": {
            "gridcolor": "white",
            "linecolor": "white",
            "ticks": ""
           }
          },
          "title": {
           "x": 0.05
          },
          "xaxis": {
           "automargin": true,
           "gridcolor": "white",
           "linecolor": "white",
           "ticks": "",
           "title": {
            "standoff": 15
           },
           "zerolinecolor": "white",
           "zerolinewidth": 2
          },
          "yaxis": {
           "automargin": true,
           "gridcolor": "white",
           "linecolor": "white",
           "ticks": "",
           "title": {
            "standoff": 15
           },
           "zerolinecolor": "white",
           "zerolinewidth": 2
          }
         }
        },
        "title": {
         "text": "Trajectory from KITTI Poses (sampled points = 150)"
        }
       }
      }
     },
     "metadata": {},
     "output_type": "display_data"
    }
   ],
   "source": [
    "import numpy as np\n",
    "import plotly.graph_objs as go\n",
    "\n",
    "pose_file = \"/home/ros_ws/noetic/data/kitti/data_odometry_poses/00_cut.txt\"\n",
    "\n",
    "# Read poses\n",
    "poses = []\n",
    "with open(pose_file, 'r') as f:\n",
    "    for line in f:\n",
    "        vals = list(map(float, line.strip().split()))\n",
    "        if len(vals) != 12:\n",
    "            continue\n",
    "        pose = np.array(vals).reshape(3, 4)\n",
    "        poses.append(pose)\n",
    "\n",
    "positions = np.array([pose[:, 3] for pose in poses])\n",
    "\n",
    "# Calculate 0.1% sampling indices (at least 1 point)\n",
    "num_points = len(positions)\n",
    "sample_size = max(1, int(num_points * 0.3))\n",
    "sample_indices = np.linspace(0, num_points - 1, sample_size).astype(int)\n",
    "sampled_positions = positions[sample_indices]\n",
    "\n",
    "x = sampled_positions[:, 0]\n",
    "y = sampled_positions[:, 1]\n",
    "z = sampled_positions[:, 2]\n",
    "\n",
    "fig = go.Figure(data=[go.Scatter3d(\n",
    "    x=x, y=y, z=z,\n",
    "    mode='lines+markers',\n",
    "    marker=dict(size=4, color='red'),  # bigger & red so sparse points stand out\n",
    "    line=dict(width=2, color='red')\n",
    ")])\n",
    "\n",
    "fig.update_layout(\n",
    "    title=f'Trajectory from KITTI Poses (sampled points = {sample_size})',\n",
    "    scene=dict(\n",
    "        xaxis_title='X (m)',\n",
    "        yaxis_title='Y (m)',\n",
    "        zaxis_title='Z (m)',\n",
    "        aspectmode='data'\n",
    "    ),\n",
    "    margin=dict(l=0, r=0, b=0, t=30)\n",
    ")\n",
    "\n",
    "fig.show()\n"
   ]
  },
  {
   "cell_type": "markdown",
   "id": "f342eebf",
   "metadata": {},
   "source": [
    "Create npz files for training"
   ]
  },
  {
   "cell_type": "code",
   "execution_count": 1,
   "id": "c9d88d1c",
   "metadata": {},
   "outputs": [
    {
     "name": "stderr",
     "output_type": "stream",
     "text": [
      "100%|██████████| 4070/4070 [00:00<00:00, 9132.69it/s]\n"
     ]
    }
   ],
   "source": [
    "import os\n",
    "import cv2\n",
    "import numpy as np\n",
    "from tqdm import tqdm\n",
    "\n",
    "def load_poses(pose_file):\n",
    "    poses = []\n",
    "    with open(pose_file, 'r') as f:\n",
    "        for line in f:\n",
    "            T = np.array(list(map(float, line.strip().split()))).reshape(3, 4)\n",
    "            pose = np.eye(4)\n",
    "            pose[:3, :] = T\n",
    "            poses.append(pose)\n",
    "    return poses\n",
    "\n",
    "def compute_rel_poses(poses):\n",
    "    rel_poses = []\n",
    "    for i in range(1, len(poses)):\n",
    "        rel = np.linalg.inv(poses[i-1]) @ poses[i]\n",
    "        trans = rel[:3, 3]\n",
    "        rot = rel[:3, :3]\n",
    "        rpy = cv2.Rodrigues(rot)[0].flatten()\n",
    "        rel_poses.append(np.hstack([trans, rpy]))\n",
    "    return np.array(rel_poses)\n",
    "\n",
    "def preprocess_lightweight(seq, save_dir, img_size=(128, 384)):\n",
    "    os.makedirs(save_dir, exist_ok=True)\n",
    "    img_dir = f\"/home/ros_ws/noetic/data/kitti/sequences/{seq}/image_0\"\n",
    "    pose_file = f\"/home/ros_ws/noetic/data/kitti/data_odometry_poses/{seq}.txt\"\n",
    "    #img_dir = f\"/home/ros_ws/noetic/data/isep/dataset_stereo_front_left_kitti_style/test\"\n",
    "    #pose_file = f\"/home/ros_ws/noetic/data/isep/dataset_stereo_front_left_kitti_style/test_poses.txt\"\n",
    "\n",
    "    images = sorted(os.listdir(img_dir))\n",
    "    poses = load_poses(pose_file)\n",
    "    rel_poses = compute_rel_poses(poses)\n",
    "\n",
    "    for i in tqdm(range(len(rel_poses))):\n",
    "        data = {\n",
    "            'img1': os.path.join(img_dir, images[i]),\n",
    "            'img2': os.path.join(img_dir, images[i+1]),\n",
    "            'pose': rel_poses[i]\n",
    "        }\n",
    "        np.savez(os.path.join(save_dir, f\"{i:06d}.npz\"), **data)\n",
    "\n",
    "# Example usage\n",
    "preprocess_lightweight(\"08\", \"data/train/08\", img_size=(128, 384))\n"
   ]
  },
  {
   "cell_type": "code",
   "execution_count": null,
   "id": "efbb9a56",
   "metadata": {},
   "outputs": [
    {
     "name": "stdout",
     "output_type": "stream",
     "text": [
      "0: img1 = /home/ros_ws/noetic/data/kitti/sequences/00_cut/image_0/003000.png\n",
      "   img2 = /home/ros_ws/noetic/data/kitti/sequences/00_cut/image_0/003001.png\n",
      "1: img1 = /home/ros_ws/noetic/data/kitti/sequences/00_cut/image_0/003001.png\n",
      "   img2 = /home/ros_ws/noetic/data/kitti/sequences/00_cut/image_0/003002.png\n",
      "2: img1 = /home/ros_ws/noetic/data/kitti/sequences/00_cut/image_0/003002.png\n",
      "   img2 = /home/ros_ws/noetic/data/kitti/sequences/00_cut/image_0/003003.png\n",
      "3: img1 = /home/ros_ws/noetic/data/kitti/sequences/00_cut/image_0/003003.png\n",
      "   img2 = /home/ros_ws/noetic/data/kitti/sequences/00_cut/image_0/003004.png\n",
      "4: img1 = /home/ros_ws/noetic/data/kitti/sequences/00_cut/image_0/003004.png\n",
      "   img2 = /home/ros_ws/noetic/data/kitti/sequences/00_cut/image_0/003005.png\n"
     ]
    }
   ],
   "source": [
    "import os\n",
    "import numpy as np\n",
    "\n",
    "def plot_image_paths(data_dir, num_samples=5):\n",
    "    files = sorted(os.listdir(data_dir))[:num_samples]\n",
    "\n",
    "    img1_paths = []\n",
    "    img2_paths = []\n",
    "\n",
    "    for file in files:\n",
    "        data = np.load(os.path.join(data_dir, file), allow_pickle=True)\n",
    "        img1_paths.append(data['img1'].item())\n",
    "        img2_paths.append(data['img2'].item())\n",
    "\n",
    "    for i in range(num_samples):\n",
    "        print(f\"{i}: img1 = {img1_paths[i]}\")\n",
    "        print(f\"   img2 = {img2_paths[i]}\")\n",
    "\n",
    "# Example usage\n",
    "plot_image_paths(\"data/train/00_cut\", num_samples=5)\n"
   ]
  },
  {
   "cell_type": "code",
   "execution_count": 1,
   "id": "78fec5f5",
   "metadata": {},
   "outputs": [
    {
     "name": "stdout",
     "output_type": "stream",
     "text": [
      "<class 'numpy.ndarray'>\n",
      "(370, 1226, 3)\n",
      "<class 'tuple'>\n"
     ]
    }
   ],
   "source": [
    "import cv2\n",
    "\n",
    "im = cv2.imread('/home/ros_ws/noetic/data/kitti/sequences/05/image_0/000000.png')\n",
    "\n",
    "print(type(im))\n",
    "print(im.shape)\n",
    "print(type(im.shape))"
   ]
  }
 ],
 "metadata": {
  "kernelspec": {
   "display_name": "Python 3",
   "language": "python",
   "name": "python3"
  },
  "language_info": {
   "codemirror_mode": {
    "name": "ipython",
    "version": 3
   },
   "file_extension": ".py",
   "mimetype": "text/x-python",
   "name": "python",
   "nbconvert_exporter": "python",
   "pygments_lexer": "ipython3",
   "version": "3.10.12"
  }
 },
 "nbformat": 4,
 "nbformat_minor": 5
}
